{
 "cells": [
  {
   "cell_type": "markdown",
   "metadata": {},
   "source": [
    "## Modern Portfolio Theory with convex linear relaxation\n",
    "\n",
    "Joaquín Rodríguez Villegas\n",
    "\n",
    "### Introduction\n",
    "\n",
    "Modern Portofolio Theory (MPT), mean variance analysis optimization or Markowitz portfolio optimization is a discrete optimization problem used in finance to allocate a finite budget across several different assets with the aim to maximize returns (expectation) while minimizing risk (variance) of the portfolio. The framework aims to help investors make rational decisions about asset allocation and risk management in order to achieve financial goals through diversification. The theory was constructed by Harry Markowitz in the 1950's and it is based on several assumptions and limitations to be considered like normally distributed returns and constant correlations, which may not always hold true in real-world financial markets.\n",
    "\n",
    "Markowitz portofolio optimization problem is in escence a quadratic constrainted optimization problem which in many cases it is hard to solve using conventional open source solvers and in many cases requires the use of costly commercial solvers. In this playground project, my aim is to develop an adaptation of the theoretical markowitz quadratic constrainted optimization problem and transform it into a linear constrainted optimization problem using McCormick Envelopes (convex relaxation)."
   ]
  }
 ],
 "metadata": {
  "language_info": {
   "name": "python"
  },
  "orig_nbformat": 4
 },
 "nbformat": 4,
 "nbformat_minor": 2
}
