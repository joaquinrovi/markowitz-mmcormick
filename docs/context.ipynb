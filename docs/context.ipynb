{
 "cells": [
  {
   "cell_type": "markdown",
   "metadata": {},
   "source": [
    "## Modern Portfolio Theory with convex linear relaxation\n",
    "\n",
    "Joaquín Rodríguez Villegas\n",
    "\n",
    "### Introduction\n",
    "\n",
    "Modern Portofolio Theory (MPT), mean variance analysis optimization or Markowitz portfolio optimization is a discrete optimization problem used in finance to allocate a finite budget across several different assets with the aim to maximize returns (expectation) while minimizing risk (variance) of the portfolio. The framework aims to help investors make rational decisions about asset allocation and risk management in order to achieve financial goals through diversification. The theory was constructed by Harry Markowitz in the 1950's and it is based on several assumptions and limitations to be considered like normally distributed returns and constant correlations, which may not always hold true in real-world financial markets.\n",
    "\n",
    "Markowitz portofolio optimization problem is a quadratic constrainted optimization problem which in many cases it is hard to solve using conventional open source solvers and requires the use of costly commercial solvers. In this playground project, my aim is to develop an adaptation of the theoretical markowitz quadratic constrainted optimization problem and transform it into a linear constrainted optimization problem using McCormick Envelopes (convex relaxation).\n",
    "\n",
    "McCormick Envelopes are a type of convex relaxation used in bilinear Non Linear Programming problems. Many times these envelopes are used to solve a Mixed Integer Non Linear Programming problem by relaxing the MINLP problem so that it becomes a convex NLP. Relaxing the bounds\n",
    "through a convex relaxation decreases the computational difficulty of solving the problem at the cost of introducing solutions that do not correspond to the original objective function.\n",
    "\n",
    "### Quadratic constrained problem (original)\n",
    "\n",
    "The original modern portfolio theory optimization problem is the following: "
   ]
  }
 ],
 "metadata": {
  "language_info": {
   "name": "python"
  },
  "orig_nbformat": 4
 },
 "nbformat": 4,
 "nbformat_minor": 2
}
