{
 "cells": [
  {
   "cell_type": "code",
   "execution_count": 1,
   "metadata": {},
   "outputs": [
    {
     "name": "stdout",
     "output_type": "stream",
     "text": [
      "The DataFrame is: \n",
      "\n"
     ]
    },
    {
     "data": {
      "text/html": [
       "<div>\n",
       "<style scoped>\n",
       "    .dataframe tbody tr th:only-of-type {\n",
       "        vertical-align: middle;\n",
       "    }\n",
       "\n",
       "    .dataframe tbody tr th {\n",
       "        vertical-align: top;\n",
       "    }\n",
       "\n",
       "    .dataframe thead th {\n",
       "        text-align: right;\n",
       "    }\n",
       "</style>\n",
       "<table border=\"1\" class=\"dataframe\">\n",
       "  <thead>\n",
       "    <tr style=\"text-align: right;\">\n",
       "      <th></th>\n",
       "      <th>Date</th>\n",
       "      <th>Asset</th>\n",
       "      <th>Open</th>\n",
       "      <th>High</th>\n",
       "      <th>Low</th>\n",
       "      <th>Close</th>\n",
       "      <th>Adj Close</th>\n",
       "      <th>Volume</th>\n",
       "      <th>ROI</th>\n",
       "    </tr>\n",
       "  </thead>\n",
       "  <tbody>\n",
       "    <tr>\n",
       "      <th>0</th>\n",
       "      <td>2013-09-01</td>\n",
       "      <td>AAPL</td>\n",
       "      <td>17.610000</td>\n",
       "      <td>18.140000</td>\n",
       "      <td>15.970000</td>\n",
       "      <td>17.030000</td>\n",
       "      <td>14.860000</td>\n",
       "      <td>8630941200</td>\n",
       "      <td>-0.156161</td>\n",
       "    </tr>\n",
       "    <tr>\n",
       "      <th>1</th>\n",
       "      <td>2013-09-01</td>\n",
       "      <td>ACN</td>\n",
       "      <td>72.720001</td>\n",
       "      <td>78.339996</td>\n",
       "      <td>72.360001</td>\n",
       "      <td>73.639999</td>\n",
       "      <td>61.282059</td>\n",
       "      <td>70562800</td>\n",
       "      <td>-0.157287</td>\n",
       "    </tr>\n",
       "    <tr>\n",
       "      <th>2</th>\n",
       "      <td>2013-09-01</td>\n",
       "      <td>AMZN</td>\n",
       "      <td>14.236500</td>\n",
       "      <td>16.028500</td>\n",
       "      <td>14.208500</td>\n",
       "      <td>15.632000</td>\n",
       "      <td>15.632000</td>\n",
       "      <td>869376000</td>\n",
       "      <td>0.098023</td>\n",
       "    </tr>\n",
       "    <tr>\n",
       "      <th>3</th>\n",
       "      <td>2013-09-01</td>\n",
       "      <td>GOOG</td>\n",
       "      <td>21.279240</td>\n",
       "      <td>22.565170</td>\n",
       "      <td>21.269028</td>\n",
       "      <td>21.815977</td>\n",
       "      <td>21.815977</td>\n",
       "      <td>1329906200</td>\n",
       "      <td>0.025224</td>\n",
       "    </tr>\n",
       "    <tr>\n",
       "      <th>4</th>\n",
       "      <td>2013-09-01</td>\n",
       "      <td>SLB</td>\n",
       "      <td>81.690002</td>\n",
       "      <td>89.720001</td>\n",
       "      <td>81.680000</td>\n",
       "      <td>88.360001</td>\n",
       "      <td>67.575027</td>\n",
       "      <td>126421200</td>\n",
       "      <td>-0.172787</td>\n",
       "    </tr>\n",
       "    <tr>\n",
       "      <th>5</th>\n",
       "      <td>2013-09-01</td>\n",
       "      <td>TSLA</td>\n",
       "      <td>11.560000</td>\n",
       "      <td>12.966667</td>\n",
       "      <td>10.567333</td>\n",
       "      <td>12.891333</td>\n",
       "      <td>12.891333</td>\n",
       "      <td>2568159000</td>\n",
       "      <td>0.115167</td>\n",
       "    </tr>\n",
       "    <tr>\n",
       "      <th>6</th>\n",
       "      <td>2013-09-01</td>\n",
       "      <td>META</td>\n",
       "      <td>41.840000</td>\n",
       "      <td>51.599998</td>\n",
       "      <td>41.439999</td>\n",
       "      <td>50.230000</td>\n",
       "      <td>50.230000</td>\n",
       "      <td>1583083800</td>\n",
       "      <td>0.200526</td>\n",
       "    </tr>\n",
       "    <tr>\n",
       "      <th>7</th>\n",
       "      <td>2013-09-01</td>\n",
       "      <td>CRM</td>\n",
       "      <td>49.459999</td>\n",
       "      <td>54.250000</td>\n",
       "      <td>48.020000</td>\n",
       "      <td>51.910000</td>\n",
       "      <td>51.910000</td>\n",
       "      <td>105773900</td>\n",
       "      <td>0.049535</td>\n",
       "    </tr>\n",
       "    <tr>\n",
       "      <th>8</th>\n",
       "      <td>2013-09-01</td>\n",
       "      <td>V</td>\n",
       "      <td>44.007500</td>\n",
       "      <td>50.215000</td>\n",
       "      <td>43.762501</td>\n",
       "      <td>47.775002</td>\n",
       "      <td>44.554924</td>\n",
       "      <td>284857200</td>\n",
       "      <td>0.012439</td>\n",
       "    </tr>\n",
       "    <tr>\n",
       "      <th>9</th>\n",
       "      <td>2013-09-01</td>\n",
       "      <td>KR</td>\n",
       "      <td>18.485001</td>\n",
       "      <td>20.709999</td>\n",
       "      <td>18.355000</td>\n",
       "      <td>20.170000</td>\n",
       "      <td>16.831999</td>\n",
       "      <td>176151400</td>\n",
       "      <td>-0.089424</td>\n",
       "    </tr>\n",
       "  </tbody>\n",
       "</table>\n",
       "</div>"
      ],
      "text/plain": [
       "        Date Asset       Open       High        Low      Close  Adj Close  \\\n",
       "0 2013-09-01  AAPL  17.610000  18.140000  15.970000  17.030000  14.860000   \n",
       "1 2013-09-01   ACN  72.720001  78.339996  72.360001  73.639999  61.282059   \n",
       "2 2013-09-01  AMZN  14.236500  16.028500  14.208500  15.632000  15.632000   \n",
       "3 2013-09-01  GOOG  21.279240  22.565170  21.269028  21.815977  21.815977   \n",
       "4 2013-09-01   SLB  81.690002  89.720001  81.680000  88.360001  67.575027   \n",
       "5 2013-09-01  TSLA  11.560000  12.966667  10.567333  12.891333  12.891333   \n",
       "6 2013-09-01  META  41.840000  51.599998  41.439999  50.230000  50.230000   \n",
       "7 2013-09-01   CRM  49.459999  54.250000  48.020000  51.910000  51.910000   \n",
       "8 2013-09-01     V  44.007500  50.215000  43.762501  47.775002  44.554924   \n",
       "9 2013-09-01    KR  18.485001  20.709999  18.355000  20.170000  16.831999   \n",
       "\n",
       "       Volume       ROI  \n",
       "0  8630941200 -0.156161  \n",
       "1    70562800 -0.157287  \n",
       "2   869376000  0.098023  \n",
       "3  1329906200  0.025224  \n",
       "4   126421200 -0.172787  \n",
       "5  2568159000  0.115167  \n",
       "6  1583083800  0.200526  \n",
       "7   105773900  0.049535  \n",
       "8   284857200  0.012439  \n",
       "9   176151400 -0.089424  "
      ]
     },
     "execution_count": 1,
     "metadata": {},
     "output_type": "execute_result"
    }
   ],
   "source": [
    "# This script will do some basic exploratory statistical analysis\n",
    "import sys\n",
    "import numpy as np\n",
    "import pandas as pd\n",
    "import matplotlib.pyplot as plt\n",
    "import scipy.stats as stats\n",
    "\n",
    "ruta = 'C:/Users/j.rodriguez.villegas/Documents/optimization/01_data/configuration_file.xlsx'\n",
    "df = pd.read_excel(ruta, sheet_name = 'Historical_data')\n",
    "print(\"The DataFrame is: \\n\")\n",
    "df.head(10)"
   ]
  },
  {
   "cell_type": "code",
   "execution_count": null,
   "metadata": {},
   "outputs": [],
   "source": [
    "df.shape"
   ]
  },
  {
   "cell_type": "code",
   "execution_count": null,
   "metadata": {},
   "outputs": [],
   "source": [
    "# Accenture\n",
    "accenture = df[df['Asset'].isin(['ACN'])]\n",
    "\n",
    "print(accenture)"
   ]
  },
  {
   "cell_type": "code",
   "execution_count": null,
   "metadata": {},
   "outputs": [],
   "source": [
    "accenture.shape"
   ]
  },
  {
   "cell_type": "code",
   "execution_count": null,
   "metadata": {},
   "outputs": [],
   "source": [
    "accenture.head()"
   ]
  },
  {
   "cell_type": "code",
   "execution_count": null,
   "metadata": {},
   "outputs": [],
   "source": [
    "distribution = accenture['ROI']\n",
    "classes = round(1 + 3.333 * np.log10(len(distribution)))\n",
    "\n",
    "# Create the histogram\n",
    "plt.hist(distribution, bins=classes)\n",
    "\n",
    "# Add labels and title\n",
    "plt.xlabel('Return on investment')\n",
    "plt.ylabel('Frequency')\n",
    "plt.title('Distribution of return on investment')\n",
    "\n",
    "# Show the plot\n",
    "plt.show()"
   ]
  },
  {
   "cell_type": "code",
   "execution_count": null,
   "metadata": {},
   "outputs": [],
   "source": [
    "# Create the boxplot\n",
    "plt.boxplot(distribution, vert = False)\n",
    "\n",
    "# Add labels and title\n",
    "plt.xlabel('Return on investment')\n",
    "plt.ylabel('Frequency')\n",
    "plt.title('Distribution of return on investment')\n",
    "\n",
    "# Show the plot\n",
    "plt.show()"
   ]
  },
  {
   "cell_type": "code",
   "execution_count": null,
   "metadata": {},
   "outputs": [],
   "source": [
    "norm_dist = distribution\n",
    "fit_loc, fit_scale = stats.norm.fit(norm_dist)\n",
    "# Print the estimated parameters\n",
    "print(\"Estimated loc parameter (mu): \", fit_loc)\n",
    "print(\"Estimated scale parameter (sigma): \", fit_scale)"
   ]
  },
  {
   "cell_type": "code",
   "execution_count": null,
   "metadata": {},
   "outputs": [],
   "source": [
    "# Calculate the expected value\n",
    "expected_value = stats.norm.mean(loc = fit_loc, scale = fit_scale)\n",
    "print(\"The expectation of the random variable is: \", expected_value)"
   ]
  },
  {
   "cell_type": "code",
   "execution_count": null,
   "metadata": {},
   "outputs": [],
   "source": [
    "# Calculate the variance\n",
    "variance = stats.norm.var(loc = fit_loc, scale = fit_scale)\n",
    "print(\"The variance of the random variable is: \", variance)"
   ]
  },
  {
   "cell_type": "code",
   "execution_count": null,
   "metadata": {},
   "outputs": [],
   "source": [
    "# Use goodness of fit test (Hypothesis testing) to validate the theoretical distribution\n",
    "\n",
    "statistic, p_value = stats.shapiro(norm_dist)\n",
    "\n",
    "# Print the test statistic and p-value\n",
    "alpha = 0.02  # Significance level\n",
    "print(f\"Shapiro-Wilk Statistic: {statistic}\")\n",
    "print(f\"P-value: {p_value}\")\n",
    "\n",
    "# Interpret the results\n",
    "if p_value >= alpha:\n",
    "    print(\"The data follows a normal distribution (not significant)\")\n",
    "else:\n",
    "    print(\"The data does not follow a normal distribution (significant)\")"
   ]
  },
  {
   "cell_type": "code",
   "execution_count": null,
   "metadata": {},
   "outputs": [],
   "source": [
    "# Apple\n",
    "apple = df[df['Asset'].isin(['AAPL'])]\n",
    "\n",
    "print(apple)"
   ]
  },
  {
   "cell_type": "code",
   "execution_count": null,
   "metadata": {},
   "outputs": [],
   "source": [
    "apple.shape"
   ]
  },
  {
   "cell_type": "code",
   "execution_count": null,
   "metadata": {},
   "outputs": [],
   "source": [
    "apple.head()"
   ]
  },
  {
   "cell_type": "code",
   "execution_count": null,
   "metadata": {},
   "outputs": [],
   "source": [
    "distribution = apple['ROI']\n",
    "classes = round(1 + 3.333 * np.log10(len(distribution)))\n",
    "\n",
    "# Create the histogram\n",
    "plt.hist(distribution, bins=classes)\n",
    "\n",
    "# Add labels and title\n",
    "plt.xlabel('Return on investment')\n",
    "plt.ylabel('Frequency')\n",
    "plt.title('Distribution of return on investment')\n",
    "\n",
    "# Show the plot\n",
    "plt.show()"
   ]
  },
  {
   "cell_type": "code",
   "execution_count": null,
   "metadata": {},
   "outputs": [],
   "source": [
    "# Create the boxplot\n",
    "plt.boxplot(distribution, vert = False)\n",
    "\n",
    "# Add labels and title\n",
    "plt.xlabel('Return on investment')\n",
    "plt.ylabel('Frequency')\n",
    "plt.title('Distribution of return on investment')\n",
    "\n",
    "# Show the plot\n",
    "plt.show()"
   ]
  },
  {
   "cell_type": "code",
   "execution_count": null,
   "metadata": {},
   "outputs": [],
   "source": [
    "norm_dist = distribution\n",
    "fit_loc, fit_scale = stats.norm.fit(norm_dist)\n",
    "# Print the estimated parameters\n",
    "print(\"Estimated loc parameter (mu): \", fit_loc)\n",
    "print(\"Estimated scale parameter (sigma): \", fit_scale)"
   ]
  },
  {
   "cell_type": "code",
   "execution_count": null,
   "metadata": {},
   "outputs": [],
   "source": [
    "# Calculate the expected value\n",
    "expected_value = stats.norm.mean(loc = fit_loc, scale = fit_scale)\n",
    "print(\"The expectation of the random variable is: \", expected_value)"
   ]
  },
  {
   "cell_type": "code",
   "execution_count": null,
   "metadata": {},
   "outputs": [],
   "source": [
    "# Calculate the variance\n",
    "variance = stats.norm.var(loc = fit_loc, scale = fit_scale)\n",
    "print(\"The variance of the random variable is: \", variance)"
   ]
  },
  {
   "cell_type": "code",
   "execution_count": null,
   "metadata": {},
   "outputs": [],
   "source": [
    "# Use goodness of fit test (Hypothesis testing) to validate the theoretical distribution\n",
    "\n",
    "statistic, p_value = stats.shapiro(norm_dist)\n",
    "\n",
    "# Print the test statistic and p-value\n",
    "alpha = 0.02  # Significance level\n",
    "print(f\"Shapiro-Wilk Statistic: {statistic}\")\n",
    "print(f\"P-value: {p_value}\")\n",
    "\n",
    "# Interpret the results\n",
    "if p_value >= alpha:\n",
    "    print(\"The data follows a normal distribution (not significant)\")\n",
    "else:\n",
    "    print(\"The data does not follow a normal distribution (significant)\")"
   ]
  },
  {
   "cell_type": "code",
   "execution_count": null,
   "metadata": {},
   "outputs": [],
   "source": [
    "# Amazon\n",
    "amazon = df[df['Asset'].isin(['AMZN'])]\n",
    "\n",
    "print(amazon)"
   ]
  },
  {
   "cell_type": "code",
   "execution_count": null,
   "metadata": {},
   "outputs": [],
   "source": [
    "amazon.shape"
   ]
  },
  {
   "cell_type": "code",
   "execution_count": null,
   "metadata": {},
   "outputs": [],
   "source": [
    "amazon.head()"
   ]
  },
  {
   "cell_type": "code",
   "execution_count": null,
   "metadata": {},
   "outputs": [],
   "source": [
    "distribution = amazon['ROI']\n",
    "classes = round(1 + 3.333 * np.log10(len(distribution)))\n",
    "\n",
    "# Create the histogram\n",
    "plt.hist(distribution, bins=classes)\n",
    "\n",
    "# Add labels and title\n",
    "plt.xlabel('Return on investment')\n",
    "plt.ylabel('Frequency')\n",
    "plt.title('Distribution of return on investment')\n",
    "\n",
    "# Show the plot\n",
    "plt.show()"
   ]
  },
  {
   "cell_type": "code",
   "execution_count": null,
   "metadata": {},
   "outputs": [],
   "source": [
    "# Create the boxplot\n",
    "plt.boxplot(distribution, vert = False)\n",
    "\n",
    "# Add labels and title\n",
    "plt.xlabel('Return on investment')\n",
    "plt.ylabel('Frequency')\n",
    "plt.title('Distribution of return on investment')\n",
    "\n",
    "# Show the plot\n",
    "plt.show()"
   ]
  },
  {
   "cell_type": "code",
   "execution_count": null,
   "metadata": {},
   "outputs": [],
   "source": [
    "norm_dist = distribution\n",
    "fit_loc, fit_scale = stats.norm.fit(norm_dist)\n",
    "# Print the estimated parameters\n",
    "print(\"Estimated loc parameter (mu): \", fit_loc)\n",
    "print(\"Estimated scale parameter (sigma): \", fit_scale)"
   ]
  },
  {
   "cell_type": "code",
   "execution_count": null,
   "metadata": {},
   "outputs": [],
   "source": [
    "# Calculate the expected value\n",
    "expected_value = stats.norm.mean(loc = fit_loc, scale = fit_scale)\n",
    "print(\"The expectation of the random variable is: \", expected_value)"
   ]
  },
  {
   "cell_type": "code",
   "execution_count": null,
   "metadata": {},
   "outputs": [],
   "source": [
    "# Calculate the variance\n",
    "variance = stats.norm.var(loc = fit_loc, scale = fit_scale)\n",
    "print(\"The variance of the random variable is: \", variance)"
   ]
  },
  {
   "cell_type": "code",
   "execution_count": null,
   "metadata": {},
   "outputs": [],
   "source": [
    "# Use goodness of fit test (Hypothesis testing) to validate the theoretical distribution\n",
    "\n",
    "statistic, p_value = stats.shapiro(norm_dist)\n",
    "\n",
    "# Print the test statistic and p-value\n",
    "alpha = 0.02  # Significance level\n",
    "print(f\"Shapiro-Wilk Statistic: {statistic}\")\n",
    "print(f\"P-value: {p_value}\")\n",
    "\n",
    "# Interpret the results\n",
    "if p_value >= alpha:\n",
    "    print(\"The data follows a normal distribution (not significant)\")\n",
    "else:\n",
    "    print(\"The data does not follow a normal distribution (significant)\")"
   ]
  }
 ],
 "metadata": {
  "kernelspec": {
   "display_name": "base",
   "language": "python",
   "name": "python3"
  },
  "language_info": {
   "codemirror_mode": {
    "name": "ipython",
    "version": 3
   },
   "file_extension": ".py",
   "mimetype": "text/x-python",
   "name": "python",
   "nbconvert_exporter": "python",
   "pygments_lexer": "ipython3",
   "version": "3.9.12"
  },
  "orig_nbformat": 4
 },
 "nbformat": 4,
 "nbformat_minor": 2
}
