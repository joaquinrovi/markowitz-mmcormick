{
 "cells": [
  {
   "cell_type": "markdown",
   "metadata": {},
   "source": [
    "## Individual Assets"
   ]
  },
  {
   "cell_type": "code",
   "execution_count": null,
   "metadata": {},
   "outputs": [],
   "source": [
    "# This script will do some basic exploratory statistical analysis\n",
    "import sys\n",
    "import numpy as np\n",
    "import pandas as pd\n",
    "import matplotlib.pyplot as plt\n",
    "import scipy.stats as stats\n",
    "\n",
    "ruta = 'C:/Users/j.rodriguez.villegas/Documents/optimization/01_data/configuration_file.xlsx'\n",
    "df = pd.read_excel(ruta, sheet_name = 'Historical_data')\n",
    "print(\"The DataFrame is: \\n\")\n",
    "df.head(10)"
   ]
  },
  {
   "cell_type": "code",
   "execution_count": null,
   "metadata": {},
   "outputs": [],
   "source": [
    "df.shape"
   ]
  },
  {
   "cell_type": "code",
   "execution_count": null,
   "metadata": {},
   "outputs": [],
   "source": [
    "# Accenture\n",
    "accenture = df[df['Asset'].isin(['ACN'])]\n",
    "\n",
    "print(accenture)"
   ]
  },
  {
   "cell_type": "code",
   "execution_count": null,
   "metadata": {},
   "outputs": [],
   "source": [
    "accenture.shape"
   ]
  },
  {
   "cell_type": "code",
   "execution_count": null,
   "metadata": {},
   "outputs": [],
   "source": [
    "accenture.head()"
   ]
  },
  {
   "cell_type": "code",
   "execution_count": null,
   "metadata": {},
   "outputs": [],
   "source": [
    "distribution = accenture['ROI']\n",
    "classes = round(1 + 3.333 * np.log10(len(distribution)))\n",
    "\n",
    "# Create the histogram\n",
    "plt.hist(distribution, bins=classes)\n",
    "\n",
    "# Add labels and title\n",
    "plt.xlabel('Return on investment')\n",
    "plt.ylabel('Frequency')\n",
    "plt.title('Distribution of return on investment')\n",
    "\n",
    "# Show the plot\n",
    "plt.show()"
   ]
  },
  {
   "cell_type": "code",
   "execution_count": null,
   "metadata": {},
   "outputs": [],
   "source": [
    "# Create the boxplot\n",
    "plt.boxplot(distribution, vert = False)\n",
    "\n",
    "# Add labels and title\n",
    "plt.xlabel('Return on investment')\n",
    "plt.ylabel('Frequency')\n",
    "plt.title('Distribution of return on investment')\n",
    "\n",
    "# Show the plot\n",
    "plt.show()"
   ]
  },
  {
   "cell_type": "code",
   "execution_count": null,
   "metadata": {},
   "outputs": [],
   "source": [
    "norm_dist = distribution\n",
    "fit_loc, fit_scale = stats.norm.fit(norm_dist)\n",
    "# Print the estimated parameters\n",
    "print(\"Estimated loc parameter (mu): \", fit_loc)\n",
    "print(\"Estimated scale parameter (sigma): \", fit_scale)"
   ]
  },
  {
   "cell_type": "code",
   "execution_count": null,
   "metadata": {},
   "outputs": [],
   "source": [
    "# Calculate the expected value\n",
    "expected_value = stats.norm.mean(loc = fit_loc, scale = fit_scale)\n",
    "print(\"The expectation of the random variable is: \", expected_value)"
   ]
  },
  {
   "cell_type": "code",
   "execution_count": null,
   "metadata": {},
   "outputs": [],
   "source": [
    "# Calculate the variance\n",
    "variance = stats.norm.var(loc = fit_loc, scale = fit_scale)\n",
    "print(\"The variance of the random variable is: \", variance)"
   ]
  },
  {
   "cell_type": "code",
   "execution_count": null,
   "metadata": {},
   "outputs": [],
   "source": [
    "# Use goodness of fit test (Hypothesis testing) to validate the theoretical distribution\n",
    "\n",
    "statistic, p_value = stats.shapiro(norm_dist)\n",
    "\n",
    "# Print the test statistic and p-value\n",
    "alpha = 0.02  # Significance level\n",
    "print(f\"Shapiro-Wilk Statistic: {statistic}\")\n",
    "print(f\"P-value: {p_value}\")\n",
    "\n",
    "# Interpret the results\n",
    "if p_value >= alpha:\n",
    "    print(\"The data follows a normal distribution (not significant)\")\n",
    "else:\n",
    "    print(\"The data does not follow a normal distribution (significant)\")"
   ]
  },
  {
   "cell_type": "code",
   "execution_count": null,
   "metadata": {},
   "outputs": [],
   "source": [
    "# Apple\n",
    "apple = df[df['Asset'].isin(['AAPL'])]\n",
    "\n",
    "print(apple)"
   ]
  },
  {
   "cell_type": "code",
   "execution_count": null,
   "metadata": {},
   "outputs": [],
   "source": [
    "apple.shape"
   ]
  },
  {
   "cell_type": "code",
   "execution_count": null,
   "metadata": {},
   "outputs": [],
   "source": [
    "apple.head()"
   ]
  },
  {
   "cell_type": "code",
   "execution_count": null,
   "metadata": {},
   "outputs": [],
   "source": [
    "distribution = apple['ROI']\n",
    "classes = round(1 + 3.333 * np.log10(len(distribution)))\n",
    "\n",
    "# Create the histogram\n",
    "plt.hist(distribution, bins=classes)\n",
    "\n",
    "# Add labels and title\n",
    "plt.xlabel('Return on investment')\n",
    "plt.ylabel('Frequency')\n",
    "plt.title('Distribution of return on investment')\n",
    "\n",
    "# Show the plot\n",
    "plt.show()"
   ]
  },
  {
   "cell_type": "code",
   "execution_count": null,
   "metadata": {},
   "outputs": [],
   "source": [
    "# Create the boxplot\n",
    "plt.boxplot(distribution, vert = False)\n",
    "\n",
    "# Add labels and title\n",
    "plt.xlabel('Return on investment')\n",
    "plt.ylabel('Frequency')\n",
    "plt.title('Distribution of return on investment')\n",
    "\n",
    "# Show the plot\n",
    "plt.show()"
   ]
  },
  {
   "cell_type": "code",
   "execution_count": null,
   "metadata": {},
   "outputs": [],
   "source": [
    "norm_dist = distribution\n",
    "fit_loc, fit_scale = stats.norm.fit(norm_dist)\n",
    "# Print the estimated parameters\n",
    "print(\"Estimated loc parameter (mu): \", fit_loc)\n",
    "print(\"Estimated scale parameter (sigma): \", fit_scale)"
   ]
  },
  {
   "cell_type": "code",
   "execution_count": null,
   "metadata": {},
   "outputs": [],
   "source": [
    "# Calculate the expected value\n",
    "expected_value = stats.norm.mean(loc = fit_loc, scale = fit_scale)\n",
    "print(\"The expectation of the random variable is: \", expected_value)"
   ]
  },
  {
   "cell_type": "code",
   "execution_count": null,
   "metadata": {},
   "outputs": [],
   "source": [
    "# Calculate the variance\n",
    "variance = stats.norm.var(loc = fit_loc, scale = fit_scale)\n",
    "print(\"The variance of the random variable is: \", variance)"
   ]
  },
  {
   "cell_type": "code",
   "execution_count": null,
   "metadata": {},
   "outputs": [],
   "source": [
    "# Use goodness of fit test (Hypothesis testing) to validate the theoretical distribution\n",
    "\n",
    "statistic, p_value = stats.shapiro(norm_dist)\n",
    "\n",
    "# Print the test statistic and p-value\n",
    "alpha = 0.02  # Significance level\n",
    "print(f\"Shapiro-Wilk Statistic: {statistic}\")\n",
    "print(f\"P-value: {p_value}\")\n",
    "\n",
    "# Interpret the results\n",
    "if p_value >= alpha:\n",
    "    print(\"The data follows a normal distribution (not significant)\")\n",
    "else:\n",
    "    print(\"The data does not follow a normal distribution (significant)\")"
   ]
  },
  {
   "cell_type": "code",
   "execution_count": null,
   "metadata": {},
   "outputs": [],
   "source": [
    "# Amazon\n",
    "amazon = df[df['Asset'].isin(['AMZN'])]\n",
    "\n",
    "print(amazon)"
   ]
  },
  {
   "cell_type": "code",
   "execution_count": null,
   "metadata": {},
   "outputs": [],
   "source": [
    "amazon.shape"
   ]
  },
  {
   "cell_type": "code",
   "execution_count": null,
   "metadata": {},
   "outputs": [],
   "source": [
    "amazon.head()"
   ]
  },
  {
   "cell_type": "code",
   "execution_count": null,
   "metadata": {},
   "outputs": [],
   "source": [
    "distribution = amazon['ROI']\n",
    "classes = round(1 + 3.333 * np.log10(len(distribution)))\n",
    "\n",
    "# Create the histogram\n",
    "plt.hist(distribution, bins=classes)\n",
    "\n",
    "# Add labels and title\n",
    "plt.xlabel('Return on investment')\n",
    "plt.ylabel('Frequency')\n",
    "plt.title('Distribution of return on investment')\n",
    "\n",
    "# Show the plot\n",
    "plt.show()"
   ]
  },
  {
   "cell_type": "code",
   "execution_count": null,
   "metadata": {},
   "outputs": [],
   "source": [
    "# Create the boxplot\n",
    "plt.boxplot(distribution, vert = False)\n",
    "\n",
    "# Add labels and title\n",
    "plt.xlabel('Return on investment')\n",
    "plt.ylabel('Frequency')\n",
    "plt.title('Distribution of return on investment')\n",
    "\n",
    "# Show the plot\n",
    "plt.show()"
   ]
  },
  {
   "cell_type": "code",
   "execution_count": null,
   "metadata": {},
   "outputs": [],
   "source": [
    "norm_dist = distribution\n",
    "fit_loc, fit_scale = stats.norm.fit(norm_dist)\n",
    "# Print the estimated parameters\n",
    "print(\"Estimated loc parameter (mu): \", fit_loc)\n",
    "print(\"Estimated scale parameter (sigma): \", fit_scale)"
   ]
  },
  {
   "cell_type": "code",
   "execution_count": null,
   "metadata": {},
   "outputs": [],
   "source": [
    "# Calculate the expected value\n",
    "expected_value = stats.norm.mean(loc = fit_loc, scale = fit_scale)\n",
    "print(\"The expectation of the random variable is: \", expected_value)"
   ]
  },
  {
   "cell_type": "code",
   "execution_count": null,
   "metadata": {},
   "outputs": [],
   "source": [
    "# Calculate the variance\n",
    "variance = stats.norm.var(loc = fit_loc, scale = fit_scale)\n",
    "print(\"The variance of the random variable is: \", variance)"
   ]
  },
  {
   "cell_type": "code",
   "execution_count": null,
   "metadata": {},
   "outputs": [],
   "source": [
    "# Use goodness of fit test (Hypothesis testing) to validate the theoretical distribution\n",
    "\n",
    "statistic, p_value = stats.shapiro(norm_dist)\n",
    "\n",
    "# Print the test statistic and p-value\n",
    "alpha = 0.02  # Significance level\n",
    "print(f\"Shapiro-Wilk Statistic: {statistic}\")\n",
    "print(f\"P-value: {p_value}\")\n",
    "\n",
    "# Interpret the results\n",
    "if p_value >= alpha:\n",
    "    print(\"The data follows a normal distribution (not significant)\")\n",
    "else:\n",
    "    print(\"The data does not follow a normal distribution (significant)\")"
   ]
  },
  {
   "cell_type": "code",
   "execution_count": null,
   "metadata": {},
   "outputs": [],
   "source": [
    "# Google\n",
    "google = df[df['Asset'].isin(['GOOG'])]\n",
    "\n",
    "print(google)"
   ]
  },
  {
   "cell_type": "code",
   "execution_count": null,
   "metadata": {},
   "outputs": [],
   "source": [
    "google.shape"
   ]
  },
  {
   "cell_type": "code",
   "execution_count": null,
   "metadata": {},
   "outputs": [],
   "source": [
    "google.head()"
   ]
  },
  {
   "cell_type": "code",
   "execution_count": null,
   "metadata": {},
   "outputs": [],
   "source": [
    "distribution = google['ROI']\n",
    "classes = round(1 + 3.333 * np.log10(len(distribution)))\n",
    "\n",
    "# Create the histogram\n",
    "plt.hist(distribution, bins=classes)\n",
    "\n",
    "# Add labels and title\n",
    "plt.xlabel('Return on investment')\n",
    "plt.ylabel('Frequency')\n",
    "plt.title('Distribution of return on investment')\n",
    "\n",
    "# Show the plot\n",
    "plt.show()"
   ]
  },
  {
   "cell_type": "code",
   "execution_count": null,
   "metadata": {},
   "outputs": [],
   "source": [
    "# Create the boxplot\n",
    "plt.boxplot(distribution, vert = False)\n",
    "\n",
    "# Add labels and title\n",
    "plt.xlabel('Return on investment')\n",
    "plt.ylabel('Frequency')\n",
    "plt.title('Distribution of return on investment')\n",
    "\n",
    "# Show the plot\n",
    "plt.show()"
   ]
  },
  {
   "cell_type": "code",
   "execution_count": null,
   "metadata": {},
   "outputs": [],
   "source": [
    "norm_dist = distribution\n",
    "fit_loc, fit_scale = stats.norm.fit(norm_dist)\n",
    "# Print the estimated parameters\n",
    "print(\"Estimated loc parameter (mu): \", fit_loc)\n",
    "print(\"Estimated scale parameter (sigma): \", fit_scale)"
   ]
  },
  {
   "cell_type": "code",
   "execution_count": null,
   "metadata": {},
   "outputs": [],
   "source": [
    "# Calculate the expected value\n",
    "expected_value = stats.norm.mean(loc = fit_loc, scale = fit_scale)\n",
    "print(\"The expectation of the random variable is: \", expected_value)"
   ]
  },
  {
   "cell_type": "code",
   "execution_count": null,
   "metadata": {},
   "outputs": [],
   "source": [
    "# Calculate the variance\n",
    "variance = stats.norm.var(loc = fit_loc, scale = fit_scale)\n",
    "print(\"The variance of the random variable is: \", variance)"
   ]
  },
  {
   "cell_type": "code",
   "execution_count": null,
   "metadata": {},
   "outputs": [],
   "source": [
    "# Use goodness of fit test (Hypothesis testing) to validate the theoretical distribution\n",
    "\n",
    "statistic, p_value = stats.shapiro(norm_dist)\n",
    "\n",
    "# Print the test statistic and p-value\n",
    "alpha = 0.02  # Significance level\n",
    "print(f\"Shapiro-Wilk Statistic: {statistic}\")\n",
    "print(f\"P-value: {p_value}\")\n",
    "\n",
    "# Interpret the results\n",
    "if p_value >= alpha:\n",
    "    print(\"The data follows a normal distribution (not significant)\")\n",
    "else:\n",
    "    print(\"The data does not follow a normal distribution (significant)\")"
   ]
  },
  {
   "cell_type": "markdown",
   "metadata": {},
   "source": [
    "## Combination of Assets (ETF's)"
   ]
  },
  {
   "cell_type": "code",
   "execution_count": null,
   "metadata": {},
   "outputs": [],
   "source": [
    "# This script will do some basic exploratory statistical analysis\n",
    "import sys\n",
    "import numpy as np\n",
    "import pandas as pd\n",
    "import matplotlib.pyplot as plt\n",
    "import scipy.stats as stats\n",
    "\n",
    "ruta = 'C:/Users/j.rodriguez.villegas/Documents/optimization/01_data/configuration_file.xlsx'\n",
    "df_2 = pd.read_excel(ruta, sheet_name = 'Historical_data_2')\n",
    "print(\"The DataFrame is: \\n\")\n",
    "df_2.head(10)"
   ]
  },
  {
   "cell_type": "code",
   "execution_count": null,
   "metadata": {},
   "outputs": [],
   "source": [
    "# VOO\n",
    "voo = df_2[df_2['Asset'].isin(['VOO'])]\n",
    "voo.head()"
   ]
  },
  {
   "cell_type": "code",
   "execution_count": null,
   "metadata": {},
   "outputs": [],
   "source": [
    "distribution = voo['ROI']\n",
    "classes = round(1 + 3.333 * np.log10(len(distribution)))\n",
    "\n",
    "# Create the histogram\n",
    "plt.hist(distribution, bins=classes)\n",
    "\n",
    "# Add labels and title\n",
    "plt.xlabel('Return on investment')\n",
    "plt.ylabel('Frequency')\n",
    "plt.title('Distribution of return on investment VOO ETF')\n",
    "\n",
    "# Show the plot\n",
    "plt.show()"
   ]
  },
  {
   "cell_type": "code",
   "execution_count": null,
   "metadata": {},
   "outputs": [],
   "source": [
    "# Create the boxplot\n",
    "plt.boxplot(distribution, vert = False)\n",
    "\n",
    "# Add labels and title\n",
    "plt.xlabel('Return on investment')\n",
    "plt.ylabel('Frequency')\n",
    "plt.title('Distribution of return on investment')\n",
    "\n",
    "# Show the plot\n",
    "plt.show()"
   ]
  },
  {
   "cell_type": "code",
   "execution_count": null,
   "metadata": {},
   "outputs": [],
   "source": [
    "norm_dist = distribution\n",
    "fit_loc, fit_scale = stats.norm.fit(norm_dist)\n",
    "# Print the estimated parameters\n",
    "print(\"Estimated loc parameter (mu): \", fit_loc)\n",
    "print(\"Estimated scale parameter (sigma): \", fit_scale)"
   ]
  },
  {
   "cell_type": "code",
   "execution_count": null,
   "metadata": {},
   "outputs": [],
   "source": [
    "# Calculate the expected value\n",
    "expected_value = stats.norm.mean(loc = fit_loc, scale = fit_scale)\n",
    "print(\"The expectation of the random variable is: \", expected_value)"
   ]
  },
  {
   "cell_type": "code",
   "execution_count": null,
   "metadata": {},
   "outputs": [],
   "source": [
    "# Calculate the variance\n",
    "variance = stats.norm.var(loc = fit_loc, scale = fit_scale)\n",
    "print(\"The variance of the random variable is: \", variance)"
   ]
  },
  {
   "cell_type": "code",
   "execution_count": null,
   "metadata": {},
   "outputs": [],
   "source": [
    "# Use goodness of fit test (Hypothesis testing) to validate the theoretical distribution\n",
    "\n",
    "statistic, p_value = stats.shapiro(norm_dist)\n",
    "\n",
    "# Print the test statistic and p-value\n",
    "alpha = 0.02  # Significance level\n",
    "print(f\"Shapiro-Wilk Statistic: {statistic}\")\n",
    "print(f\"P-value: {p_value}\")\n",
    "\n",
    "# Interpret the results\n",
    "if p_value >= alpha:\n",
    "    print(\"The data follows a normal distribution (not significant)\")\n",
    "else:\n",
    "    print(\"The data does not follow a normal distribution (significant)\")"
   ]
  }
 ],
 "metadata": {
  "kernelspec": {
   "display_name": "base",
   "language": "python",
   "name": "python3"
  },
  "language_info": {
   "codemirror_mode": {
    "name": "ipython",
    "version": 3
   },
   "file_extension": ".py",
   "mimetype": "text/x-python",
   "name": "python",
   "nbconvert_exporter": "python",
   "pygments_lexer": "ipython3",
   "version": "3.9.12"
  },
  "orig_nbformat": 4
 },
 "nbformat": 4,
 "nbformat_minor": 2
}
