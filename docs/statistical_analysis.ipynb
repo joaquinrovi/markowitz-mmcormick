{
 "cells": [
  {
   "cell_type": "markdown",
   "metadata": {},
   "source": [
    "## Individual Assets"
   ]
  },
  {
   "cell_type": "code",
   "execution_count": null,
   "metadata": {},
   "outputs": [],
   "source": [
    "# This script will do some basic exploratory statistical analysis\n",
    "import sys\n",
    "import numpy as np\n",
    "import pandas as pd\n",
    "import matplotlib.pyplot as plt\n",
    "import scipy.stats as stats\n",
    "\n",
    "ruta = 'C:/Users/j.rodriguez.villegas/Documents/optimization/01_data/configuration_file.xlsx'\n",
    "df = pd.read_excel(ruta, sheet_name = 'Historical_data')\n",
    "print(\"The DataFrame is: \\n\")\n",
    "df.head(10)"
   ]
  },
  {
   "cell_type": "code",
   "execution_count": null,
   "metadata": {},
   "outputs": [],
   "source": [
    "df.shape"
   ]
  },
  {
   "cell_type": "code",
   "execution_count": null,
   "metadata": {},
   "outputs": [],
   "source": [
    "# Accenture\n",
    "accenture = df[df['Asset'].isin(['ACN'])]\n",
    "\n",
    "print(accenture)"
   ]
  },
  {
   "cell_type": "code",
   "execution_count": null,
   "metadata": {},
   "outputs": [],
   "source": [
    "accenture.shape"
   ]
  },
  {
   "cell_type": "code",
   "execution_count": null,
   "metadata": {},
   "outputs": [],
   "source": [
    "accenture.head()"
   ]
  },
  {
   "cell_type": "code",
   "execution_count": null,
   "metadata": {},
   "outputs": [],
   "source": [
    "distribution = accenture['ROI']\n",
    "classes = round(1 + 3.333 * np.log10(len(distribution)))\n",
    "\n",
    "# Create the histogram\n",
    "plt.hist(distribution, bins=classes)\n",
    "\n",
    "# Add labels and title\n",
    "plt.xlabel('Return on investment')\n",
    "plt.ylabel('Frequency')\n",
    "plt.title('Distribution of return on investment')\n",
    "\n",
    "# Show the plot\n",
    "plt.show()"
   ]
  },
  {
   "cell_type": "code",
   "execution_count": null,
   "metadata": {},
   "outputs": [],
   "source": [
    "# Create the boxplot\n",
    "plt.boxplot(distribution, vert = False)\n",
    "\n",
    "# Add labels and title\n",
    "plt.xlabel('Return on investment')\n",
    "plt.ylabel('Frequency')\n",
    "plt.title('Distribution of return on investment')\n",
    "\n",
    "# Show the plot\n",
    "plt.show()"
   ]
  },
  {
   "cell_type": "code",
   "execution_count": null,
   "metadata": {},
   "outputs": [],
   "source": [
    "norm_dist = distribution\n",
    "fit_loc, fit_scale = stats.norm.fit(norm_dist)\n",
    "# Print the estimated parameters\n",
    "print(\"Estimated loc parameter (mu): \", fit_loc)\n",
    "print(\"Estimated scale parameter (sigma): \", fit_scale)"
   ]
  },
  {
   "cell_type": "code",
   "execution_count": null,
   "metadata": {},
   "outputs": [],
   "source": [
    "# Calculate the expected value\n",
    "expected_value = stats.norm.mean(loc = fit_loc, scale = fit_scale)\n",
    "print(\"The expectation of the random variable is: \", expected_value)"
   ]
  },
  {
   "cell_type": "code",
   "execution_count": null,
   "metadata": {},
   "outputs": [],
   "source": [
    "# Calculate the variance\n",
    "variance = stats.norm.var(loc = fit_loc, scale = fit_scale)\n",
    "print(\"The variance of the random variable is: \", variance)"
   ]
  },
  {
   "cell_type": "code",
   "execution_count": null,
   "metadata": {},
   "outputs": [],
   "source": [
    "# Use goodness of fit test (Hypothesis testing) to validate the theoretical distribution\n",
    "\n",
    "statistic, p_value = stats.shapiro(norm_dist)\n",
    "\n",
    "# Print the test statistic and p-value\n",
    "alpha = 0.02  # Significance level\n",
    "print(f\"Shapiro-Wilk Statistic: {statistic}\")\n",
    "print(f\"P-value: {p_value}\")\n",
    "\n",
    "# Interpret the results\n",
    "if p_value >= alpha:\n",
    "    print(\"The data follows a normal distribution (not significant)\")\n",
    "else:\n",
    "    print(\"The data does not follow a normal distribution (significant)\")"
   ]
  },
  {
   "cell_type": "code",
   "execution_count": null,
   "metadata": {},
   "outputs": [],
   "source": [
    "# Apple\n",
    "apple = df[df['Asset'].isin(['AAPL'])]\n",
    "\n",
    "print(apple)"
   ]
  },
  {
   "cell_type": "code",
   "execution_count": null,
   "metadata": {},
   "outputs": [],
   "source": [
    "apple.shape"
   ]
  },
  {
   "cell_type": "code",
   "execution_count": null,
   "metadata": {},
   "outputs": [],
   "source": [
    "apple.head()"
   ]
  },
  {
   "cell_type": "code",
   "execution_count": null,
   "metadata": {},
   "outputs": [],
   "source": [
    "distribution = apple['ROI']\n",
    "classes = round(1 + 3.333 * np.log10(len(distribution)))\n",
    "\n",
    "# Create the histogram\n",
    "plt.hist(distribution, bins=classes)\n",
    "\n",
    "# Add labels and title\n",
    "plt.xlabel('Return on investment')\n",
    "plt.ylabel('Frequency')\n",
    "plt.title('Distribution of return on investment')\n",
    "\n",
    "# Show the plot\n",
    "plt.show()"
   ]
  },
  {
   "cell_type": "code",
   "execution_count": null,
   "metadata": {},
   "outputs": [],
   "source": [
    "# Create the boxplot\n",
    "plt.boxplot(distribution, vert = False)\n",
    "\n",
    "# Add labels and title\n",
    "plt.xlabel('Return on investment')\n",
    "plt.ylabel('Frequency')\n",
    "plt.title('Distribution of return on investment')\n",
    "\n",
    "# Show the plot\n",
    "plt.show()"
   ]
  },
  {
   "cell_type": "code",
   "execution_count": null,
   "metadata": {},
   "outputs": [],
   "source": [
    "norm_dist = distribution\n",
    "fit_loc, fit_scale = stats.norm.fit(norm_dist)\n",
    "# Print the estimated parameters\n",
    "print(\"Estimated loc parameter (mu): \", fit_loc)\n",
    "print(\"Estimated scale parameter (sigma): \", fit_scale)"
   ]
  },
  {
   "cell_type": "code",
   "execution_count": null,
   "metadata": {},
   "outputs": [],
   "source": [
    "# Calculate the expected value\n",
    "expected_value = stats.norm.mean(loc = fit_loc, scale = fit_scale)\n",
    "print(\"The expectation of the random variable is: \", expected_value)"
   ]
  },
  {
   "cell_type": "code",
   "execution_count": null,
   "metadata": {},
   "outputs": [],
   "source": [
    "# Calculate the variance\n",
    "variance = stats.norm.var(loc = fit_loc, scale = fit_scale)\n",
    "print(\"The variance of the random variable is: \", variance)"
   ]
  },
  {
   "cell_type": "code",
   "execution_count": null,
   "metadata": {},
   "outputs": [],
   "source": [
    "# Use goodness of fit test (Hypothesis testing) to validate the theoretical distribution\n",
    "\n",
    "statistic, p_value = stats.shapiro(norm_dist)\n",
    "\n",
    "# Print the test statistic and p-value\n",
    "alpha = 0.02  # Significance level\n",
    "print(f\"Shapiro-Wilk Statistic: {statistic}\")\n",
    "print(f\"P-value: {p_value}\")\n",
    "\n",
    "# Interpret the results\n",
    "if p_value >= alpha:\n",
    "    print(\"The data follows a normal distribution (not significant)\")\n",
    "else:\n",
    "    print(\"The data does not follow a normal distribution (significant)\")"
   ]
  },
  {
   "cell_type": "code",
   "execution_count": null,
   "metadata": {},
   "outputs": [],
   "source": [
    "# Amazon\n",
    "amazon = df[df['Asset'].isin(['AMZN'])]\n",
    "\n",
    "print(amazon)"
   ]
  },
  {
   "cell_type": "code",
   "execution_count": null,
   "metadata": {},
   "outputs": [],
   "source": [
    "amazon.shape"
   ]
  },
  {
   "cell_type": "code",
   "execution_count": null,
   "metadata": {},
   "outputs": [],
   "source": [
    "amazon.head()"
   ]
  },
  {
   "cell_type": "code",
   "execution_count": null,
   "metadata": {},
   "outputs": [],
   "source": [
    "distribution = amazon['ROI']\n",
    "classes = round(1 + 3.333 * np.log10(len(distribution)))\n",
    "\n",
    "# Create the histogram\n",
    "plt.hist(distribution, bins=classes)\n",
    "\n",
    "# Add labels and title\n",
    "plt.xlabel('Return on investment')\n",
    "plt.ylabel('Frequency')\n",
    "plt.title('Distribution of return on investment')\n",
    "\n",
    "# Show the plot\n",
    "plt.show()"
   ]
  },
  {
   "cell_type": "code",
   "execution_count": null,
   "metadata": {},
   "outputs": [],
   "source": [
    "# Create the boxplot\n",
    "plt.boxplot(distribution, vert = False)\n",
    "\n",
    "# Add labels and title\n",
    "plt.xlabel('Return on investment')\n",
    "plt.ylabel('Frequency')\n",
    "plt.title('Distribution of return on investment')\n",
    "\n",
    "# Show the plot\n",
    "plt.show()"
   ]
  },
  {
   "cell_type": "code",
   "execution_count": null,
   "metadata": {},
   "outputs": [],
   "source": [
    "norm_dist = distribution\n",
    "fit_loc, fit_scale = stats.norm.fit(norm_dist)\n",
    "# Print the estimated parameters\n",
    "print(\"Estimated loc parameter (mu): \", fit_loc)\n",
    "print(\"Estimated scale parameter (sigma): \", fit_scale)"
   ]
  },
  {
   "cell_type": "code",
   "execution_count": null,
   "metadata": {},
   "outputs": [],
   "source": [
    "# Calculate the expected value\n",
    "expected_value = stats.norm.mean(loc = fit_loc, scale = fit_scale)\n",
    "print(\"The expectation of the random variable is: \", expected_value)"
   ]
  },
  {
   "cell_type": "code",
   "execution_count": null,
   "metadata": {},
   "outputs": [],
   "source": [
    "# Calculate the variance\n",
    "variance = stats.norm.var(loc = fit_loc, scale = fit_scale)\n",
    "print(\"The variance of the random variable is: \", variance)"
   ]
  },
  {
   "cell_type": "code",
   "execution_count": null,
   "metadata": {},
   "outputs": [],
   "source": [
    "# Use goodness of fit test (Hypothesis testing) to validate the theoretical distribution\n",
    "\n",
    "statistic, p_value = stats.shapiro(norm_dist)\n",
    "\n",
    "# Print the test statistic and p-value\n",
    "alpha = 0.02  # Significance level\n",
    "print(f\"Shapiro-Wilk Statistic: {statistic}\")\n",
    "print(f\"P-value: {p_value}\")\n",
    "\n",
    "# Interpret the results\n",
    "if p_value >= alpha:\n",
    "    print(\"The data follows a normal distribution (not significant)\")\n",
    "else:\n",
    "    print(\"The data does not follow a normal distribution (significant)\")"
   ]
  },
  {
   "cell_type": "code",
   "execution_count": null,
   "metadata": {},
   "outputs": [],
   "source": [
    "# Google\n",
    "google = df[df['Asset'].isin(['GOOG'])]\n",
    "\n",
    "print(google)"
   ]
  },
  {
   "cell_type": "code",
   "execution_count": null,
   "metadata": {},
   "outputs": [],
   "source": [
    "google.shape"
   ]
  },
  {
   "cell_type": "code",
   "execution_count": null,
   "metadata": {},
   "outputs": [],
   "source": [
    "google.head()"
   ]
  },
  {
   "cell_type": "code",
   "execution_count": null,
   "metadata": {},
   "outputs": [],
   "source": [
    "distribution = google['ROI']\n",
    "classes = round(1 + 3.333 * np.log10(len(distribution)))\n",
    "\n",
    "# Create the histogram\n",
    "plt.hist(distribution, bins=classes)\n",
    "\n",
    "# Add labels and title\n",
    "plt.xlabel('Return on investment')\n",
    "plt.ylabel('Frequency')\n",
    "plt.title('Distribution of return on investment')\n",
    "\n",
    "# Show the plot\n",
    "plt.show()"
   ]
  },
  {
   "cell_type": "code",
   "execution_count": null,
   "metadata": {},
   "outputs": [],
   "source": [
    "# Create the boxplot\n",
    "plt.boxplot(distribution, vert = False)\n",
    "\n",
    "# Add labels and title\n",
    "plt.xlabel('Return on investment')\n",
    "plt.ylabel('Frequency')\n",
    "plt.title('Distribution of return on investment')\n",
    "\n",
    "# Show the plot\n",
    "plt.show()"
   ]
  },
  {
   "cell_type": "code",
   "execution_count": null,
   "metadata": {},
   "outputs": [],
   "source": [
    "norm_dist = distribution\n",
    "fit_loc, fit_scale = stats.norm.fit(norm_dist)\n",
    "# Print the estimated parameters\n",
    "print(\"Estimated loc parameter (mu): \", fit_loc)\n",
    "print(\"Estimated scale parameter (sigma): \", fit_scale)"
   ]
  },
  {
   "cell_type": "code",
   "execution_count": null,
   "metadata": {},
   "outputs": [],
   "source": [
    "# Calculate the expected value\n",
    "expected_value = stats.norm.mean(loc = fit_loc, scale = fit_scale)\n",
    "print(\"The expectation of the random variable is: \", expected_value)"
   ]
  },
  {
   "cell_type": "code",
   "execution_count": null,
   "metadata": {},
   "outputs": [],
   "source": [
    "# Calculate the variance\n",
    "variance = stats.norm.var(loc = fit_loc, scale = fit_scale)\n",
    "print(\"The variance of the random variable is: \", variance)"
   ]
  },
  {
   "cell_type": "code",
   "execution_count": null,
   "metadata": {},
   "outputs": [],
   "source": [
    "# Use goodness of fit test (Hypothesis testing) to validate the theoretical distribution\n",
    "\n",
    "statistic, p_value = stats.shapiro(norm_dist)\n",
    "\n",
    "# Print the test statistic and p-value\n",
    "alpha = 0.02  # Significance level\n",
    "print(f\"Shapiro-Wilk Statistic: {statistic}\")\n",
    "print(f\"P-value: {p_value}\")\n",
    "\n",
    "# Interpret the results\n",
    "if p_value >= alpha:\n",
    "    print(\"The data follows a normal distribution (not significant)\")\n",
    "else:\n",
    "    print(\"The data does not follow a normal distribution (significant)\")"
   ]
  },
  {
   "cell_type": "markdown",
   "metadata": {},
   "source": [
    "## Combination of Assets (ETF's)"
   ]
  },
  {
   "cell_type": "code",
   "execution_count": 69,
   "metadata": {},
   "outputs": [
    {
     "name": "stdout",
     "output_type": "stream",
     "text": [
      "The DataFrame is: \n",
      "\n"
     ]
    },
    {
     "data": {
      "text/html": [
       "<div>\n",
       "<style scoped>\n",
       "    .dataframe tbody tr th:only-of-type {\n",
       "        vertical-align: middle;\n",
       "    }\n",
       "\n",
       "    .dataframe tbody tr th {\n",
       "        vertical-align: top;\n",
       "    }\n",
       "\n",
       "    .dataframe thead th {\n",
       "        text-align: right;\n",
       "    }\n",
       "</style>\n",
       "<table border=\"1\" class=\"dataframe\">\n",
       "  <thead>\n",
       "    <tr style=\"text-align: right;\">\n",
       "      <th></th>\n",
       "      <th>Date</th>\n",
       "      <th>Asset</th>\n",
       "      <th>Open</th>\n",
       "      <th>High</th>\n",
       "      <th>Low</th>\n",
       "      <th>Close</th>\n",
       "      <th>Adj Close</th>\n",
       "      <th>Volume</th>\n",
       "      <th>ROI</th>\n",
       "    </tr>\n",
       "  </thead>\n",
       "  <tbody>\n",
       "    <tr>\n",
       "      <th>0</th>\n",
       "      <td>2011-09-01</td>\n",
       "      <td>VOO</td>\n",
       "      <td>111.739998</td>\n",
       "      <td>112.800003</td>\n",
       "      <td>102.379997</td>\n",
       "      <td>103.519997</td>\n",
       "      <td>82.673691</td>\n",
       "      <td>4571000</td>\n",
       "      <td>-0.073564</td>\n",
       "    </tr>\n",
       "    <tr>\n",
       "      <th>1</th>\n",
       "      <td>2011-09-01</td>\n",
       "      <td>VXUS</td>\n",
       "      <td>46.110001</td>\n",
       "      <td>46.520000</td>\n",
       "      <td>39.250000</td>\n",
       "      <td>40.310001</td>\n",
       "      <td>27.907845</td>\n",
       "      <td>2370400</td>\n",
       "      <td>-0.125786</td>\n",
       "    </tr>\n",
       "    <tr>\n",
       "      <th>2</th>\n",
       "      <td>2011-09-01</td>\n",
       "      <td>BND</td>\n",
       "      <td>83.320000</td>\n",
       "      <td>84.580002</td>\n",
       "      <td>83.050003</td>\n",
       "      <td>83.739998</td>\n",
       "      <td>60.632889</td>\n",
       "      <td>27045300</td>\n",
       "      <td>0.005041</td>\n",
       "    </tr>\n",
       "    <tr>\n",
       "      <th>3</th>\n",
       "      <td>2011-09-01</td>\n",
       "      <td>VYM</td>\n",
       "      <td>42.650002</td>\n",
       "      <td>42.889999</td>\n",
       "      <td>39.459999</td>\n",
       "      <td>40.419998</td>\n",
       "      <td>27.762306</td>\n",
       "      <td>7184400</td>\n",
       "      <td>-0.052286</td>\n",
       "    </tr>\n",
       "    <tr>\n",
       "      <th>4</th>\n",
       "      <td>2011-09-01</td>\n",
       "      <td>VNQ</td>\n",
       "      <td>57.500000</td>\n",
       "      <td>57.959999</td>\n",
       "      <td>50.650002</td>\n",
       "      <td>50.869999</td>\n",
       "      <td>31.639059</td>\n",
       "      <td>54834000</td>\n",
       "      <td>-0.115304</td>\n",
       "    </tr>\n",
       "    <tr>\n",
       "      <th>5</th>\n",
       "      <td>2011-10-01</td>\n",
       "      <td>VOO</td>\n",
       "      <td>102.820000</td>\n",
       "      <td>118.300003</td>\n",
       "      <td>98.239998</td>\n",
       "      <td>114.639999</td>\n",
       "      <td>92.068909</td>\n",
       "      <td>8390200</td>\n",
       "      <td>0.114958</td>\n",
       "    </tr>\n",
       "    <tr>\n",
       "      <th>6</th>\n",
       "      <td>2011-10-01</td>\n",
       "      <td>VXUS</td>\n",
       "      <td>39.880001</td>\n",
       "      <td>47.200001</td>\n",
       "      <td>38.020000</td>\n",
       "      <td>44.439999</td>\n",
       "      <td>30.767185</td>\n",
       "      <td>4023800</td>\n",
       "      <td>0.114343</td>\n",
       "    </tr>\n",
       "    <tr>\n",
       "      <th>7</th>\n",
       "      <td>2011-10-01</td>\n",
       "      <td>BND</td>\n",
       "      <td>83.699997</td>\n",
       "      <td>84.050003</td>\n",
       "      <td>82.720001</td>\n",
       "      <td>83.620003</td>\n",
       "      <td>60.701000</td>\n",
       "      <td>35970000</td>\n",
       "      <td>-0.000956</td>\n",
       "    </tr>\n",
       "    <tr>\n",
       "      <th>8</th>\n",
       "      <td>2011-10-01</td>\n",
       "      <td>VYM</td>\n",
       "      <td>40.240002</td>\n",
       "      <td>44.950001</td>\n",
       "      <td>38.619999</td>\n",
       "      <td>43.680000</td>\n",
       "      <td>30.233118</td>\n",
       "      <td>9854700</td>\n",
       "      <td>0.085487</td>\n",
       "    </tr>\n",
       "    <tr>\n",
       "      <th>9</th>\n",
       "      <td>2011-10-01</td>\n",
       "      <td>VNQ</td>\n",
       "      <td>50.340000</td>\n",
       "      <td>59.119999</td>\n",
       "      <td>47.099998</td>\n",
       "      <td>58.139999</td>\n",
       "      <td>36.511829</td>\n",
       "      <td>60425700</td>\n",
       "      <td>0.154946</td>\n",
       "    </tr>\n",
       "  </tbody>\n",
       "</table>\n",
       "</div>"
      ],
      "text/plain": [
       "        Date Asset        Open        High         Low       Close  Adj Close  \\\n",
       "0 2011-09-01   VOO  111.739998  112.800003  102.379997  103.519997  82.673691   \n",
       "1 2011-09-01  VXUS   46.110001   46.520000   39.250000   40.310001  27.907845   \n",
       "2 2011-09-01   BND   83.320000   84.580002   83.050003   83.739998  60.632889   \n",
       "3 2011-09-01   VYM   42.650002   42.889999   39.459999   40.419998  27.762306   \n",
       "4 2011-09-01   VNQ   57.500000   57.959999   50.650002   50.869999  31.639059   \n",
       "5 2011-10-01   VOO  102.820000  118.300003   98.239998  114.639999  92.068909   \n",
       "6 2011-10-01  VXUS   39.880001   47.200001   38.020000   44.439999  30.767185   \n",
       "7 2011-10-01   BND   83.699997   84.050003   82.720001   83.620003  60.701000   \n",
       "8 2011-10-01   VYM   40.240002   44.950001   38.619999   43.680000  30.233118   \n",
       "9 2011-10-01   VNQ   50.340000   59.119999   47.099998   58.139999  36.511829   \n",
       "\n",
       "     Volume       ROI  \n",
       "0   4571000 -0.073564  \n",
       "1   2370400 -0.125786  \n",
       "2  27045300  0.005041  \n",
       "3   7184400 -0.052286  \n",
       "4  54834000 -0.115304  \n",
       "5   8390200  0.114958  \n",
       "6   4023800  0.114343  \n",
       "7  35970000 -0.000956  \n",
       "8   9854700  0.085487  \n",
       "9  60425700  0.154946  "
      ]
     },
     "execution_count": 69,
     "metadata": {},
     "output_type": "execute_result"
    }
   ],
   "source": [
    "# This script will do some basic exploratory statistical analysis\n",
    "import sys\n",
    "import numpy as np\n",
    "import pandas as pd\n",
    "import matplotlib.pyplot as plt\n",
    "import scipy.stats as stats\n",
    "\n",
    "ruta = 'C:/Users/j.rodriguez.villegas/Documents/optimization/01_data/configuration_file.xlsx'\n",
    "df_2 = pd.read_excel(ruta, sheet_name = 'Historical_data_2')\n",
    "print(\"The DataFrame is: \\n\")\n",
    "df_2.head(10)"
   ]
  },
  {
   "cell_type": "code",
   "execution_count": 71,
   "metadata": {},
   "outputs": [
    {
     "data": {
      "text/html": [
       "<div>\n",
       "<style scoped>\n",
       "    .dataframe tbody tr th:only-of-type {\n",
       "        vertical-align: middle;\n",
       "    }\n",
       "\n",
       "    .dataframe tbody tr th {\n",
       "        vertical-align: top;\n",
       "    }\n",
       "\n",
       "    .dataframe thead th {\n",
       "        text-align: right;\n",
       "    }\n",
       "</style>\n",
       "<table border=\"1\" class=\"dataframe\">\n",
       "  <thead>\n",
       "    <tr style=\"text-align: right;\">\n",
       "      <th></th>\n",
       "      <th>Date</th>\n",
       "      <th>Asset</th>\n",
       "      <th>Open</th>\n",
       "      <th>High</th>\n",
       "      <th>Low</th>\n",
       "      <th>Close</th>\n",
       "      <th>Adj Close</th>\n",
       "      <th>Volume</th>\n",
       "      <th>ROI</th>\n",
       "    </tr>\n",
       "  </thead>\n",
       "  <tbody>\n",
       "    <tr>\n",
       "      <th>0</th>\n",
       "      <td>2011-09-01</td>\n",
       "      <td>VOO</td>\n",
       "      <td>111.739998</td>\n",
       "      <td>112.800003</td>\n",
       "      <td>102.379997</td>\n",
       "      <td>103.519997</td>\n",
       "      <td>82.673691</td>\n",
       "      <td>4571000</td>\n",
       "      <td>-0.073564</td>\n",
       "    </tr>\n",
       "    <tr>\n",
       "      <th>5</th>\n",
       "      <td>2011-10-01</td>\n",
       "      <td>VOO</td>\n",
       "      <td>102.820000</td>\n",
       "      <td>118.300003</td>\n",
       "      <td>98.239998</td>\n",
       "      <td>114.639999</td>\n",
       "      <td>92.068909</td>\n",
       "      <td>8390200</td>\n",
       "      <td>0.114958</td>\n",
       "    </tr>\n",
       "    <tr>\n",
       "      <th>10</th>\n",
       "      <td>2011-11-01</td>\n",
       "      <td>VOO</td>\n",
       "      <td>111.540001</td>\n",
       "      <td>117.019997</td>\n",
       "      <td>106.300003</td>\n",
       "      <td>114.300003</td>\n",
       "      <td>91.795891</td>\n",
       "      <td>5038850</td>\n",
       "      <td>0.024745</td>\n",
       "    </tr>\n",
       "    <tr>\n",
       "      <th>15</th>\n",
       "      <td>2011-12-01</td>\n",
       "      <td>VOO</td>\n",
       "      <td>114.139999</td>\n",
       "      <td>118.160004</td>\n",
       "      <td>110.440002</td>\n",
       "      <td>114.900002</td>\n",
       "      <td>92.277718</td>\n",
       "      <td>7915950</td>\n",
       "      <td>0.006659</td>\n",
       "    </tr>\n",
       "    <tr>\n",
       "      <th>20</th>\n",
       "      <td>2012-01-01</td>\n",
       "      <td>VOO</td>\n",
       "      <td>116.900002</td>\n",
       "      <td>122.000000</td>\n",
       "      <td>115.680000</td>\n",
       "      <td>120.040001</td>\n",
       "      <td>96.982338</td>\n",
       "      <td>4406500</td>\n",
       "      <td>0.026861</td>\n",
       "    </tr>\n",
       "  </tbody>\n",
       "</table>\n",
       "</div>"
      ],
      "text/plain": [
       "         Date Asset        Open        High         Low       Close  \\\n",
       "0  2011-09-01   VOO  111.739998  112.800003  102.379997  103.519997   \n",
       "5  2011-10-01   VOO  102.820000  118.300003   98.239998  114.639999   \n",
       "10 2011-11-01   VOO  111.540001  117.019997  106.300003  114.300003   \n",
       "15 2011-12-01   VOO  114.139999  118.160004  110.440002  114.900002   \n",
       "20 2012-01-01   VOO  116.900002  122.000000  115.680000  120.040001   \n",
       "\n",
       "    Adj Close   Volume       ROI  \n",
       "0   82.673691  4571000 -0.073564  \n",
       "5   92.068909  8390200  0.114958  \n",
       "10  91.795891  5038850  0.024745  \n",
       "15  92.277718  7915950  0.006659  \n",
       "20  96.982338  4406500  0.026861  "
      ]
     },
     "execution_count": 71,
     "metadata": {},
     "output_type": "execute_result"
    }
   ],
   "source": [
    "# VOO\n",
    "voo = df_2[df_2['Asset'].isin(['VOO'])]\n",
    "voo.head()"
   ]
  },
  {
   "cell_type": "code",
   "execution_count": 72,
   "metadata": {},
   "outputs": [
    {
     "data": {
      "image/png": "[encoded data removed]",
      "text/plain": [
       "<Figure size 432x288 with 1 Axes>"
      ]
     },
     "metadata": {
      "needs_background": "light"
     },
     "output_type": "display_data"
    }
   ],
   "source": [
    "distribution = voo['ROI']\n",
    "classes = round(1 + 3.333 * np.log10(len(distribution)))\n",
    "\n",
    "# Create the histogram\n",
    "plt.hist(distribution, bins=classes)\n",
    "\n",
    "# Add labels and title\n",
    "plt.xlabel('Return on investment')\n",
    "plt.ylabel('Frequency')\n",
    "plt.title('Distribution of return on investment VOO ETF')\n",
    "\n",
    "# Show the plot\n",
    "plt.show()"
   ]
  },
  {
   "cell_type": "code",
   "execution_count": 73,
   "metadata": {},
   "outputs": [
    {
     "data": {
      "image/png": "[encoded data removed]",
      "text/plain": [
       "<Figure size 432x288 with 1 Axes>"
      ]
     },
     "metadata": {
      "needs_background": "light"
     },
     "output_type": "display_data"
    }
   ],
   "source": [
    "# Create the boxplot\n",
    "plt.boxplot(distribution, vert = False)\n",
    "\n",
    "# Add labels and title\n",
    "plt.xlabel('Return on investment')\n",
    "plt.ylabel('Frequency')\n",
    "plt.title('Distribution of return on investment')\n",
    "\n",
    "# Show the plot\n",
    "plt.show()"
   ]
  },
  {
   "cell_type": "code",
   "execution_count": 74,
   "metadata": {},
   "outputs": [
    {
     "name": "stdout",
     "output_type": "stream",
     "text": [
      "Estimated loc parameter (mu):  0.00873477281038518\n",
      "Estimated scale parameter (sigma):  0.043146576493324824\n"
     ]
    }
   ],
   "source": [
    "norm_dist = distribution\n",
    "fit_loc, fit_scale = stats.norm.fit(norm_dist)\n",
    "# Print the estimated parameters\n",
    "print(\"Estimated loc parameter (mu): \", fit_loc)\n",
    "print(\"Estimated scale parameter (sigma): \", fit_scale)"
   ]
  },
  {
   "cell_type": "code",
   "execution_count": 75,
   "metadata": {},
   "outputs": [
    {
     "name": "stdout",
     "output_type": "stream",
     "text": [
      "The expectation of the random variable is:  0.00873477281038518\n"
     ]
    }
   ],
   "source": [
    "# Calculate the expected value\n",
    "expected_value = stats.norm.mean(loc = fit_loc, scale = fit_scale)\n",
    "print(\"The expectation of the random variable is: \", expected_value)"
   ]
  },
  {
   "cell_type": "code",
   "execution_count": 76,
   "metadata": {},
   "outputs": [
    {
     "name": "stdout",
     "output_type": "stream",
     "text": [
      "The variance of the random variable is:  0.0018616270630943304\n"
     ]
    }
   ],
   "source": [
    "# Calculate the variance\n",
    "variance = stats.norm.var(loc = fit_loc, scale = fit_scale)\n",
    "print(\"The variance of the random variable is: \", variance)"
   ]
  },
  {
   "cell_type": "code",
   "execution_count": 77,
   "metadata": {},
   "outputs": [
    {
     "name": "stdout",
     "output_type": "stream",
     "text": [
      "Shapiro-Wilk Statistic: 0.9618359208106995\n",
      "P-value: 0.0004948680871166289\n",
      "The data does not follow a normal distribution (significant)\n"
     ]
    }
   ],
   "source": [
    "# Use goodness of fit test (Hypothesis testing) to validate the theoretical distribution\n",
    "\n",
    "statistic, p_value = stats.shapiro(norm_dist)\n",
    "\n",
    "# Print the test statistic and p-value\n",
    "alpha = 0.02  # Significance level\n",
    "print(f\"Shapiro-Wilk Statistic: {statistic}\")\n",
    "print(f\"P-value: {p_value}\")\n",
    "\n",
    "# Interpret the results\n",
    "if p_value >= alpha:\n",
    "    print(\"The data follows a normal distribution (not significant)\")\n",
    "else:\n",
    "    print(\"The data does not follow a normal distribution (significant)\")"
   ]
  }
 ],
 "metadata": {
  "kernelspec": {
   "display_name": "base",
   "language": "python",
   "name": "python3"
  },
  "language_info": {
   "codemirror_mode": {
    "name": "ipython",
    "version": 3
   },
   "file_extension": ".py",
   "mimetype": "text/x-python",
   "name": "python",
   "nbconvert_exporter": "python",
   "pygments_lexer": "ipython3",
   "version": "3.9.12"
  },
  "orig_nbformat": 4
 },
 "nbformat": 4,
 "nbformat_minor": 2
}
