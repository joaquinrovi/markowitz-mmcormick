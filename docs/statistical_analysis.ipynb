{
 "cells": [
  {
   "cell_type": "code",
   "execution_count": 140,
   "metadata": {},
   "outputs": [
    {
     "name": "stdout",
     "output_type": "stream",
     "text": [
      "The DataFrame is: \n",
      "\n"
     ]
    },
    {
     "data": {
      "text/html": [
       "<div>\n",
       "<style scoped>\n",
       "    .dataframe tbody tr th:only-of-type {\n",
       "        vertical-align: middle;\n",
       "    }\n",
       "\n",
       "    .dataframe tbody tr th {\n",
       "        vertical-align: top;\n",
       "    }\n",
       "\n",
       "    .dataframe thead th {\n",
       "        text-align: right;\n",
       "    }\n",
       "</style>\n",
       "<table border=\"1\" class=\"dataframe\">\n",
       "  <thead>\n",
       "    <tr style=\"text-align: right;\">\n",
       "      <th></th>\n",
       "      <th>Date</th>\n",
       "      <th>Asset</th>\n",
       "      <th>Open</th>\n",
       "      <th>High</th>\n",
       "      <th>Low</th>\n",
       "      <th>Close</th>\n",
       "      <th>Adj Close</th>\n",
       "      <th>Volume</th>\n",
       "      <th>ROI</th>\n",
       "    </tr>\n",
       "  </thead>\n",
       "  <tbody>\n",
       "    <tr>\n",
       "      <th>0</th>\n",
       "      <td>2013-09-01</td>\n",
       "      <td>AAPL</td>\n",
       "      <td>17.610000</td>\n",
       "      <td>18.140000</td>\n",
       "      <td>15.970000</td>\n",
       "      <td>17.030000</td>\n",
       "      <td>14.860000</td>\n",
       "      <td>8630941200</td>\n",
       "      <td>-0.156161</td>\n",
       "    </tr>\n",
       "    <tr>\n",
       "      <th>1</th>\n",
       "      <td>2013-09-01</td>\n",
       "      <td>ACN</td>\n",
       "      <td>72.720001</td>\n",
       "      <td>78.339996</td>\n",
       "      <td>72.360001</td>\n",
       "      <td>73.639999</td>\n",
       "      <td>61.282059</td>\n",
       "      <td>70562800</td>\n",
       "      <td>-0.157287</td>\n",
       "    </tr>\n",
       "    <tr>\n",
       "      <th>2</th>\n",
       "      <td>2013-09-01</td>\n",
       "      <td>AMZN</td>\n",
       "      <td>14.236500</td>\n",
       "      <td>16.028500</td>\n",
       "      <td>14.208500</td>\n",
       "      <td>15.632000</td>\n",
       "      <td>15.632000</td>\n",
       "      <td>869376000</td>\n",
       "      <td>0.098023</td>\n",
       "    </tr>\n",
       "    <tr>\n",
       "      <th>3</th>\n",
       "      <td>2013-09-01</td>\n",
       "      <td>GOOG</td>\n",
       "      <td>21.279240</td>\n",
       "      <td>22.565170</td>\n",
       "      <td>21.269028</td>\n",
       "      <td>21.815977</td>\n",
       "      <td>21.815977</td>\n",
       "      <td>1329906200</td>\n",
       "      <td>0.025224</td>\n",
       "    </tr>\n",
       "    <tr>\n",
       "      <th>4</th>\n",
       "      <td>2013-09-01</td>\n",
       "      <td>SLB</td>\n",
       "      <td>81.690002</td>\n",
       "      <td>89.720001</td>\n",
       "      <td>81.680000</td>\n",
       "      <td>88.360001</td>\n",
       "      <td>67.575027</td>\n",
       "      <td>126421200</td>\n",
       "      <td>-0.172787</td>\n",
       "    </tr>\n",
       "    <tr>\n",
       "      <th>5</th>\n",
       "      <td>2013-09-01</td>\n",
       "      <td>TSLA</td>\n",
       "      <td>11.560000</td>\n",
       "      <td>12.966667</td>\n",
       "      <td>10.567333</td>\n",
       "      <td>12.891333</td>\n",
       "      <td>12.891333</td>\n",
       "      <td>2568159000</td>\n",
       "      <td>0.115167</td>\n",
       "    </tr>\n",
       "    <tr>\n",
       "      <th>6</th>\n",
       "      <td>2013-09-01</td>\n",
       "      <td>META</td>\n",
       "      <td>41.840000</td>\n",
       "      <td>51.599998</td>\n",
       "      <td>41.439999</td>\n",
       "      <td>50.230000</td>\n",
       "      <td>50.230000</td>\n",
       "      <td>1583083800</td>\n",
       "      <td>0.200526</td>\n",
       "    </tr>\n",
       "    <tr>\n",
       "      <th>7</th>\n",
       "      <td>2013-09-01</td>\n",
       "      <td>CRM</td>\n",
       "      <td>49.459999</td>\n",
       "      <td>54.250000</td>\n",
       "      <td>48.020000</td>\n",
       "      <td>51.910000</td>\n",
       "      <td>51.910000</td>\n",
       "      <td>105773900</td>\n",
       "      <td>0.049535</td>\n",
       "    </tr>\n",
       "    <tr>\n",
       "      <th>8</th>\n",
       "      <td>2013-09-01</td>\n",
       "      <td>V</td>\n",
       "      <td>44.007500</td>\n",
       "      <td>50.215000</td>\n",
       "      <td>43.762501</td>\n",
       "      <td>47.775002</td>\n",
       "      <td>44.554924</td>\n",
       "      <td>284857200</td>\n",
       "      <td>0.012439</td>\n",
       "    </tr>\n",
       "    <tr>\n",
       "      <th>9</th>\n",
       "      <td>2013-09-01</td>\n",
       "      <td>KR</td>\n",
       "      <td>18.485001</td>\n",
       "      <td>20.709999</td>\n",
       "      <td>18.355000</td>\n",
       "      <td>20.170000</td>\n",
       "      <td>16.831999</td>\n",
       "      <td>176151400</td>\n",
       "      <td>-0.089424</td>\n",
       "    </tr>\n",
       "  </tbody>\n",
       "</table>\n",
       "</div>"
      ],
      "text/plain": [
       "        Date Asset       Open       High        Low      Close  Adj Close  \\\n",
       "0 2013-09-01  AAPL  17.610000  18.140000  15.970000  17.030000  14.860000   \n",
       "1 2013-09-01   ACN  72.720001  78.339996  72.360001  73.639999  61.282059   \n",
       "2 2013-09-01  AMZN  14.236500  16.028500  14.208500  15.632000  15.632000   \n",
       "3 2013-09-01  GOOG  21.279240  22.565170  21.269028  21.815977  21.815977   \n",
       "4 2013-09-01   SLB  81.690002  89.720001  81.680000  88.360001  67.575027   \n",
       "5 2013-09-01  TSLA  11.560000  12.966667  10.567333  12.891333  12.891333   \n",
       "6 2013-09-01  META  41.840000  51.599998  41.439999  50.230000  50.230000   \n",
       "7 2013-09-01   CRM  49.459999  54.250000  48.020000  51.910000  51.910000   \n",
       "8 2013-09-01     V  44.007500  50.215000  43.762501  47.775002  44.554924   \n",
       "9 2013-09-01    KR  18.485001  20.709999  18.355000  20.170000  16.831999   \n",
       "\n",
       "       Volume       ROI  \n",
       "0  8630941200 -0.156161  \n",
       "1    70562800 -0.157287  \n",
       "2   869376000  0.098023  \n",
       "3  1329906200  0.025224  \n",
       "4   126421200 -0.172787  \n",
       "5  2568159000  0.115167  \n",
       "6  1583083800  0.200526  \n",
       "7   105773900  0.049535  \n",
       "8   284857200  0.012439  \n",
       "9   176151400 -0.089424  "
      ]
     },
     "execution_count": 140,
     "metadata": {},
     "output_type": "execute_result"
    }
   ],
   "source": [
    "# This script will do some basic exploratory statistical analysis\n",
    "import sys\n",
    "import numpy as np\n",
    "import pandas as pd\n",
    "import matplotlib.pyplot as plt\n",
    "import scipy.stats as stats\n",
    "\n",
    "ruta = 'C:/Users/j.rodriguez.villegas/OneDrive - Accenture/optimization/01_data/configuration_file.xlsx'\n",
    "df = pd.read_excel(ruta, sheet_name = 'Historical_data')\n",
    "print(\"The DataFrame is: \\n\")\n",
    "df.head(10)"
   ]
  },
  {
   "cell_type": "code",
   "execution_count": 141,
   "metadata": {},
   "outputs": [
    {
     "data": {
      "text/plain": [
       "(2040, 9)"
      ]
     },
     "execution_count": 141,
     "metadata": {},
     "output_type": "execute_result"
    }
   ],
   "source": [
    "df.shape"
   ]
  },
  {
   "cell_type": "code",
   "execution_count": 142,
   "metadata": {},
   "outputs": [
    {
     "name": "stdout",
     "output_type": "stream",
     "text": [
      "           Date Asset        Open        High         Low       Close  \\\n",
      "1    2013-09-01   ACN   72.720001   78.339996   72.360001   73.639999   \n",
      "18   2013-10-01   ACN   73.540001   75.260002   69.779999   73.500000   \n",
      "35   2013-11-01   ACN   73.889999   79.449997   72.330002   77.470001   \n",
      "52   2013-12-01   ACN   77.419998   83.449997   73.790001   82.220001   \n",
      "69   2014-01-01   ACN   81.500000   85.879997   78.820000   79.879997   \n",
      "...         ...   ...         ...         ...         ...         ...   \n",
      "1956 2023-04-01   ACN  283.390015  288.649994  270.200012  280.290009   \n",
      "1973 2023-05-01   ACN  279.089996  318.910004  261.679993  305.920013   \n",
      "1990 2023-06-01   ACN  305.730011  327.929993  296.000000  308.579987   \n",
      "2007 2023-07-01   ACN  308.000000  324.190002  304.119995  316.350006   \n",
      "2024 2023-08-01   ACN  315.440002  326.230011  301.309998  323.769989   \n",
      "\n",
      "       Adj Close    Volume       ROI  \n",
      "1      61.282059  70562800 -0.157287  \n",
      "18     61.165546  69020600 -0.168268  \n",
      "35     65.323891  61371800 -0.115931  \n",
      "52     69.329193  75326700 -0.104505  \n",
      "69     67.356049  70394800 -0.173545  \n",
      "...          ...       ...       ...  \n",
      "1956  278.184021  43364700 -0.018370  \n",
      "1973  304.813751  61226100  0.092170  \n",
      "1990  307.464111  62201300  0.005672  \n",
      "2007  315.206024  36727800  0.023396  \n",
      "2024  323.769989  35907900  0.026408  \n",
      "\n",
      "[120 rows x 9 columns]\n"
     ]
    }
   ],
   "source": [
    "# Accenture\n",
    "accenture = df[df['Asset'].isin(['ACN'])]\n",
    "\n",
    "print(accenture)"
   ]
  },
  {
   "cell_type": "code",
   "execution_count": 143,
   "metadata": {},
   "outputs": [
    {
     "data": {
      "text/plain": [
       "(120, 9)"
      ]
     },
     "execution_count": 143,
     "metadata": {},
     "output_type": "execute_result"
    }
   ],
   "source": [
    "accenture.shape"
   ]
  },
  {
   "cell_type": "code",
   "execution_count": 144,
   "metadata": {},
   "outputs": [
    {
     "data": {
      "text/html": [
       "<div>\n",
       "<style scoped>\n",
       "    .dataframe tbody tr th:only-of-type {\n",
       "        vertical-align: middle;\n",
       "    }\n",
       "\n",
       "    .dataframe tbody tr th {\n",
       "        vertical-align: top;\n",
       "    }\n",
       "\n",
       "    .dataframe thead th {\n",
       "        text-align: right;\n",
       "    }\n",
       "</style>\n",
       "<table border=\"1\" class=\"dataframe\">\n",
       "  <thead>\n",
       "    <tr style=\"text-align: right;\">\n",
       "      <th></th>\n",
       "      <th>Date</th>\n",
       "      <th>Asset</th>\n",
       "      <th>Open</th>\n",
       "      <th>High</th>\n",
       "      <th>Low</th>\n",
       "      <th>Close</th>\n",
       "      <th>Adj Close</th>\n",
       "      <th>Volume</th>\n",
       "      <th>ROI</th>\n",
       "    </tr>\n",
       "  </thead>\n",
       "  <tbody>\n",
       "    <tr>\n",
       "      <th>1</th>\n",
       "      <td>2013-09-01</td>\n",
       "      <td>ACN</td>\n",
       "      <td>72.720001</td>\n",
       "      <td>78.339996</td>\n",
       "      <td>72.360001</td>\n",
       "      <td>73.639999</td>\n",
       "      <td>61.282059</td>\n",
       "      <td>70562800</td>\n",
       "      <td>-0.157287</td>\n",
       "    </tr>\n",
       "    <tr>\n",
       "      <th>18</th>\n",
       "      <td>2013-10-01</td>\n",
       "      <td>ACN</td>\n",
       "      <td>73.540001</td>\n",
       "      <td>75.260002</td>\n",
       "      <td>69.779999</td>\n",
       "      <td>73.500000</td>\n",
       "      <td>61.165546</td>\n",
       "      <td>69020600</td>\n",
       "      <td>-0.168268</td>\n",
       "    </tr>\n",
       "    <tr>\n",
       "      <th>35</th>\n",
       "      <td>2013-11-01</td>\n",
       "      <td>ACN</td>\n",
       "      <td>73.889999</td>\n",
       "      <td>79.449997</td>\n",
       "      <td>72.330002</td>\n",
       "      <td>77.470001</td>\n",
       "      <td>65.323891</td>\n",
       "      <td>61371800</td>\n",
       "      <td>-0.115931</td>\n",
       "    </tr>\n",
       "    <tr>\n",
       "      <th>52</th>\n",
       "      <td>2013-12-01</td>\n",
       "      <td>ACN</td>\n",
       "      <td>77.419998</td>\n",
       "      <td>83.449997</td>\n",
       "      <td>73.790001</td>\n",
       "      <td>82.220001</td>\n",
       "      <td>69.329193</td>\n",
       "      <td>75326700</td>\n",
       "      <td>-0.104505</td>\n",
       "    </tr>\n",
       "    <tr>\n",
       "      <th>69</th>\n",
       "      <td>2014-01-01</td>\n",
       "      <td>ACN</td>\n",
       "      <td>81.500000</td>\n",
       "      <td>85.879997</td>\n",
       "      <td>78.820000</td>\n",
       "      <td>79.879997</td>\n",
       "      <td>67.356049</td>\n",
       "      <td>70394800</td>\n",
       "      <td>-0.173545</td>\n",
       "    </tr>\n",
       "  </tbody>\n",
       "</table>\n",
       "</div>"
      ],
      "text/plain": [
       "         Date Asset       Open       High        Low      Close  Adj Close  \\\n",
       "1  2013-09-01   ACN  72.720001  78.339996  72.360001  73.639999  61.282059   \n",
       "18 2013-10-01   ACN  73.540001  75.260002  69.779999  73.500000  61.165546   \n",
       "35 2013-11-01   ACN  73.889999  79.449997  72.330002  77.470001  65.323891   \n",
       "52 2013-12-01   ACN  77.419998  83.449997  73.790001  82.220001  69.329193   \n",
       "69 2014-01-01   ACN  81.500000  85.879997  78.820000  79.879997  67.356049   \n",
       "\n",
       "      Volume       ROI  \n",
       "1   70562800 -0.157287  \n",
       "18  69020600 -0.168268  \n",
       "35  61371800 -0.115931  \n",
       "52  75326700 -0.104505  \n",
       "69  70394800 -0.173545  "
      ]
     },
     "execution_count": 144,
     "metadata": {},
     "output_type": "execute_result"
    }
   ],
   "source": [
    "accenture.head()"
   ]
  },
  {
   "cell_type": "code",
   "execution_count": 145,
   "metadata": {},
   "outputs": [
    {
     "data": {
      "image/png": "[encoded data removed]",
      "text/plain": [
       "<Figure size 432x288 with 1 Axes>"
      ]
     },
     "metadata": {
      "needs_background": "light"
     },
     "output_type": "display_data"
    }
   ],
   "source": [
    "distribution = accenture['ROI']\n",
    "classes = round(1 + 3.333 * np.log10(len(distribution)))\n",
    "\n",
    "# Create the histogram\n",
    "plt.hist(distribution, bins=classes)\n",
    "\n",
    "# Add labels and title\n",
    "plt.xlabel('Return on investment')\n",
    "plt.ylabel('Frequency')\n",
    "plt.title('Distribution of return on investment')\n",
    "\n",
    "# Show the plot\n",
    "plt.show()"
   ]
  },
  {
   "cell_type": "code",
   "execution_count": 146,
   "metadata": {},
   "outputs": [
    {
     "data": {
      "image/png": "[encoded data removed]",
      "text/plain": [
       "<Figure size 432x288 with 1 Axes>"
      ]
     },
     "metadata": {
      "needs_background": "light"
     },
     "output_type": "display_data"
    }
   ],
   "source": [
    "# Create the boxplot\n",
    "plt.boxplot(distribution, vert = False)\n",
    "\n",
    "# Add labels and title\n",
    "plt.xlabel('Return on investment')\n",
    "plt.ylabel('Frequency')\n",
    "plt.title('Distribution of return on investment')\n",
    "\n",
    "# Show the plot\n",
    "plt.show()"
   ]
  },
  {
   "cell_type": "code",
   "execution_count": 147,
   "metadata": {},
   "outputs": [
    {
     "name": "stdout",
     "output_type": "stream",
     "text": [
      "Estimated loc parameter (mu):  -0.06295426785021321\n",
      "Estimated scale parameter (sigma):  0.07379011307277203\n"
     ]
    }
   ],
   "source": [
    "norm_dist = distribution\n",
    "fit_loc, fit_scale = stats.norm.fit(norm_dist)\n",
    "# Print the estimated parameters\n",
    "print(\"Estimated loc parameter (mu): \", fit_loc)\n",
    "print(\"Estimated scale parameter (sigma): \", fit_scale)"
   ]
  },
  {
   "cell_type": "code",
   "execution_count": 148,
   "metadata": {},
   "outputs": [
    {
     "name": "stdout",
     "output_type": "stream",
     "text": [
      "The expectation of the random variable is:  -0.06295426785021321\n"
     ]
    }
   ],
   "source": [
    "# Calculate the expected value\n",
    "expected_value = stats.norm.mean(loc = fit_loc, scale = fit_scale)\n",
    "print(\"The expectation of the random variable is: \", expected_value)"
   ]
  },
  {
   "cell_type": "code",
   "execution_count": 149,
   "metadata": {},
   "outputs": [
    {
     "name": "stdout",
     "output_type": "stream",
     "text": [
      "The variance of the random variable is:  0.0054449807872924815\n"
     ]
    }
   ],
   "source": [
    "# Calculate the variance\n",
    "variance = stats.norm.var(loc = fit_loc, scale = fit_scale)\n",
    "print(\"The variance of the random variable is: \", variance)"
   ]
  },
  {
   "cell_type": "code",
   "execution_count": 150,
   "metadata": {},
   "outputs": [
    {
     "name": "stdout",
     "output_type": "stream",
     "text": [
      "Shapiro-Wilk Statistic: 0.9774160981178284\n",
      "P-value: 0.04101752117276192\n",
      "The data follows a normal distribution (not significant)\n"
     ]
    }
   ],
   "source": [
    "# Use goodness of fit test (Hypothesis testing) to validate the theoretical distribution\n",
    "\n",
    "statistic, p_value = stats.shapiro(norm_dist)\n",
    "\n",
    "# Print the test statistic and p-value\n",
    "alpha = 0.02  # Significance level\n",
    "print(f\"Shapiro-Wilk Statistic: {statistic}\")\n",
    "print(f\"P-value: {p_value}\")\n",
    "\n",
    "# Interpret the results\n",
    "if p_value >= alpha:\n",
    "    print(\"The data follows a normal distribution (not significant)\")\n",
    "else:\n",
    "    print(\"The data does not follow a normal distribution (significant)\")"
   ]
  },
  {
   "cell_type": "code",
   "execution_count": 151,
   "metadata": {},
   "outputs": [
    {
     "name": "stdout",
     "output_type": "stream",
     "text": [
      "           Date Asset    Open    High     Low   Close  Adj Close      Volume  \\\n",
      "0    2013-09-01  AAPL   17.61   18.14   15.97   17.03      14.86  8630941200   \n",
      "17   2013-10-01  AAPL   17.09   19.26   17.08   18.67      16.29  7837732000   \n",
      "34   2013-11-01  AAPL   18.72   19.94   18.30   19.86      17.33  5225155600   \n",
      "51   2013-12-01  AAPL   19.93   20.54   19.24   20.04      17.59  7057397200   \n",
      "68   2014-01-01  AAPL   19.85   20.01   17.63   17.88      15.69  8765954400   \n",
      "...         ...   ...     ...     ...     ...     ...        ...         ...   \n",
      "1955 2023-04-01  AAPL  164.27  169.85  159.78  169.68     169.22   969709700   \n",
      "1972 2023-05-01  AAPL  169.28  179.35  164.31  177.25     176.77  1275155500   \n",
      "1989 2023-06-01  AAPL  177.70  194.48  176.93  193.97     193.71  1297101100   \n",
      "2006 2023-07-01  AAPL  193.78  198.23  186.60  196.45     196.19   996066400   \n",
      "2023 2023-08-01  AAPL  196.24  196.73  171.96  187.87     187.62  1322439400   \n",
      "\n",
      "           ROI  \n",
      "0    -0.156161  \n",
      "17   -0.046811  \n",
      "34   -0.074252  \n",
      "51   -0.117411  \n",
      "68   -0.209572  \n",
      "...        ...  \n",
      "1955  0.030133  \n",
      "1972  0.044246  \n",
      "1989  0.090096  \n",
      "2006  0.012437  \n",
      "2023 -0.043926  \n",
      "\n",
      "[120 rows x 9 columns]\n"
     ]
    }
   ],
   "source": [
    "# Apple\n",
    "apple = df[df['Asset'].isin(['AAPL'])]\n",
    "\n",
    "print(apple)"
   ]
  },
  {
   "cell_type": "code",
   "execution_count": 152,
   "metadata": {},
   "outputs": [
    {
     "data": {
      "text/plain": [
       "(120, 9)"
      ]
     },
     "execution_count": 152,
     "metadata": {},
     "output_type": "execute_result"
    }
   ],
   "source": [
    "apple.shape"
   ]
  },
  {
   "cell_type": "code",
   "execution_count": 153,
   "metadata": {},
   "outputs": [
    {
     "data": {
      "text/html": [
       "<div>\n",
       "<style scoped>\n",
       "    .dataframe tbody tr th:only-of-type {\n",
       "        vertical-align: middle;\n",
       "    }\n",
       "\n",
       "    .dataframe tbody tr th {\n",
       "        vertical-align: top;\n",
       "    }\n",
       "\n",
       "    .dataframe thead th {\n",
       "        text-align: right;\n",
       "    }\n",
       "</style>\n",
       "<table border=\"1\" class=\"dataframe\">\n",
       "  <thead>\n",
       "    <tr style=\"text-align: right;\">\n",
       "      <th></th>\n",
       "      <th>Date</th>\n",
       "      <th>Asset</th>\n",
       "      <th>Open</th>\n",
       "      <th>High</th>\n",
       "      <th>Low</th>\n",
       "      <th>Close</th>\n",
       "      <th>Adj Close</th>\n",
       "      <th>Volume</th>\n",
       "      <th>ROI</th>\n",
       "    </tr>\n",
       "  </thead>\n",
       "  <tbody>\n",
       "    <tr>\n",
       "      <th>0</th>\n",
       "      <td>2013-09-01</td>\n",
       "      <td>AAPL</td>\n",
       "      <td>17.61</td>\n",
       "      <td>18.14</td>\n",
       "      <td>15.97</td>\n",
       "      <td>17.03</td>\n",
       "      <td>14.86</td>\n",
       "      <td>8630941200</td>\n",
       "      <td>-0.156161</td>\n",
       "    </tr>\n",
       "    <tr>\n",
       "      <th>17</th>\n",
       "      <td>2013-10-01</td>\n",
       "      <td>AAPL</td>\n",
       "      <td>17.09</td>\n",
       "      <td>19.26</td>\n",
       "      <td>17.08</td>\n",
       "      <td>18.67</td>\n",
       "      <td>16.29</td>\n",
       "      <td>7837732000</td>\n",
       "      <td>-0.046811</td>\n",
       "    </tr>\n",
       "    <tr>\n",
       "      <th>34</th>\n",
       "      <td>2013-11-01</td>\n",
       "      <td>AAPL</td>\n",
       "      <td>18.72</td>\n",
       "      <td>19.94</td>\n",
       "      <td>18.30</td>\n",
       "      <td>19.86</td>\n",
       "      <td>17.33</td>\n",
       "      <td>5225155600</td>\n",
       "      <td>-0.074252</td>\n",
       "    </tr>\n",
       "    <tr>\n",
       "      <th>51</th>\n",
       "      <td>2013-12-01</td>\n",
       "      <td>AAPL</td>\n",
       "      <td>19.93</td>\n",
       "      <td>20.54</td>\n",
       "      <td>19.24</td>\n",
       "      <td>20.04</td>\n",
       "      <td>17.59</td>\n",
       "      <td>7057397200</td>\n",
       "      <td>-0.117411</td>\n",
       "    </tr>\n",
       "    <tr>\n",
       "      <th>68</th>\n",
       "      <td>2014-01-01</td>\n",
       "      <td>AAPL</td>\n",
       "      <td>19.85</td>\n",
       "      <td>20.01</td>\n",
       "      <td>17.63</td>\n",
       "      <td>17.88</td>\n",
       "      <td>15.69</td>\n",
       "      <td>8765954400</td>\n",
       "      <td>-0.209572</td>\n",
       "    </tr>\n",
       "  </tbody>\n",
       "</table>\n",
       "</div>"
      ],
      "text/plain": [
       "         Date Asset   Open   High    Low  Close  Adj Close      Volume  \\\n",
       "0  2013-09-01  AAPL  17.61  18.14  15.97  17.03      14.86  8630941200   \n",
       "17 2013-10-01  AAPL  17.09  19.26  17.08  18.67      16.29  7837732000   \n",
       "34 2013-11-01  AAPL  18.72  19.94  18.30  19.86      17.33  5225155600   \n",
       "51 2013-12-01  AAPL  19.93  20.54  19.24  20.04      17.59  7057397200   \n",
       "68 2014-01-01  AAPL  19.85  20.01  17.63  17.88      15.69  8765954400   \n",
       "\n",
       "         ROI  \n",
       "0  -0.156161  \n",
       "17 -0.046811  \n",
       "34 -0.074252  \n",
       "51 -0.117411  \n",
       "68 -0.209572  "
      ]
     },
     "execution_count": 153,
     "metadata": {},
     "output_type": "execute_result"
    }
   ],
   "source": [
    "apple.head()"
   ]
  },
  {
   "cell_type": "code",
   "execution_count": 154,
   "metadata": {},
   "outputs": [
    {
     "data": {
      "image/png": "[encoded data removed]",
      "text/plain": [
       "<Figure size 432x288 with 1 Axes>"
      ]
     },
     "metadata": {
      "needs_background": "light"
     },
     "output_type": "display_data"
    }
   ],
   "source": [
    "distribution = apple['ROI']\n",
    "classes = round(1 + 3.333 * np.log10(len(distribution)))\n",
    "\n",
    "# Create the histogram\n",
    "plt.hist(distribution, bins=classes)\n",
    "\n",
    "# Add labels and title\n",
    "plt.xlabel('Return on investment')\n",
    "plt.ylabel('Frequency')\n",
    "plt.title('Distribution of return on investment')\n",
    "\n",
    "# Show the plot\n",
    "plt.show()"
   ]
  },
  {
   "cell_type": "code",
   "execution_count": 155,
   "metadata": {},
   "outputs": [
    {
     "data": {
      "image/png": "[encoded data removed]",
      "text/plain": [
       "<Figure size 432x288 with 1 Axes>"
      ]
     },
     "metadata": {
      "needs_background": "light"
     },
     "output_type": "display_data"
    }
   ],
   "source": [
    "# Create the boxplot\n",
    "plt.boxplot(distribution, vert = False)\n",
    "\n",
    "# Add labels and title\n",
    "plt.xlabel('Return on investment')\n",
    "plt.ylabel('Frequency')\n",
    "plt.title('Distribution of return on investment')\n",
    "\n",
    "# Show the plot\n",
    "plt.show()"
   ]
  },
  {
   "cell_type": "code",
   "execution_count": 156,
   "metadata": {},
   "outputs": [
    {
     "name": "stdout",
     "output_type": "stream",
     "text": [
      "Estimated loc parameter (mu):  -0.032118307886835756\n",
      "Estimated scale parameter (sigma):  0.08714920826199771\n"
     ]
    }
   ],
   "source": [
    "norm_dist = distribution\n",
    "fit_loc, fit_scale = stats.norm.fit(norm_dist)\n",
    "# Print the estimated parameters\n",
    "print(\"Estimated loc parameter (mu): \", fit_loc)\n",
    "print(\"Estimated scale parameter (sigma): \", fit_scale)"
   ]
  },
  {
   "cell_type": "code",
   "execution_count": 157,
   "metadata": {},
   "outputs": [
    {
     "name": "stdout",
     "output_type": "stream",
     "text": [
      "The expectation of the random variable is:  -0.032118307886835756\n"
     ]
    }
   ],
   "source": [
    "# Calculate the expected value\n",
    "expected_value = stats.norm.mean(loc = fit_loc, scale = fit_scale)\n",
    "print(\"The expectation of the random variable is: \", expected_value)"
   ]
  },
  {
   "cell_type": "code",
   "execution_count": 158,
   "metadata": {},
   "outputs": [
    {
     "name": "stdout",
     "output_type": "stream",
     "text": [
      "The variance of the random variable is:  0.0075949845006930495\n"
     ]
    }
   ],
   "source": [
    "# Calculate the variance\n",
    "variance = stats.norm.var(loc = fit_loc, scale = fit_scale)\n",
    "print(\"The variance of the random variable is: \", variance)"
   ]
  },
  {
   "cell_type": "code",
   "execution_count": 159,
   "metadata": {},
   "outputs": [
    {
     "name": "stdout",
     "output_type": "stream",
     "text": [
      "Shapiro-Wilk Statistic: 0.9896529316902161\n",
      "P-value: 0.5038782954216003\n",
      "The data follows a normal distribution (not significant)\n"
     ]
    }
   ],
   "source": [
    "# Use goodness of fit test (Hypothesis testing) to validate the theoretical distribution\n",
    "\n",
    "statistic, p_value = stats.shapiro(norm_dist)\n",
    "\n",
    "# Print the test statistic and p-value\n",
    "alpha = 0.02  # Significance level\n",
    "print(f\"Shapiro-Wilk Statistic: {statistic}\")\n",
    "print(f\"P-value: {p_value}\")\n",
    "\n",
    "# Interpret the results\n",
    "if p_value >= alpha:\n",
    "    print(\"The data follows a normal distribution (not significant)\")\n",
    "else:\n",
    "    print(\"The data does not follow a normal distribution (significant)\")"
   ]
  },
  {
   "cell_type": "code",
   "execution_count": 160,
   "metadata": {},
   "outputs": [
    {
     "name": "stdout",
     "output_type": "stream",
     "text": [
      "           Date Asset        Open        High         Low       Close  \\\n",
      "2    2013-09-01  AMZN   14.236500   16.028500   14.208500   15.632000   \n",
      "19   2013-10-01  AMZN   15.711000   18.420000   14.825000   18.201500   \n",
      "36   2013-11-01  AMZN   18.281500   19.705000   17.094000   19.681000   \n",
      "53   2013-12-01  AMZN   19.950001   20.281500   18.975000   19.939501   \n",
      "70   2014-01-01  AMZN   19.940001   20.403000   17.888000   17.934500   \n",
      "...         ...   ...         ...         ...         ...         ...   \n",
      "1957 2023-04-01  AMZN  102.300003  110.860001   97.709999  105.449997   \n",
      "1974 2023-05-01  AMZN  104.949997  122.919998  101.150002  120.580002   \n",
      "1991 2023-06-01  AMZN  120.690002  131.490005  119.930000  130.360001   \n",
      "2008 2023-07-01  AMZN  130.820007  136.649994  125.919998  133.679993   \n",
      "2025 2023-08-01  AMZN  133.550003  143.630005  126.410004  138.009995   \n",
      "\n",
      "       Adj Close      Volume       ROI  \n",
      "2      15.632000   869376000  0.098023  \n",
      "19     18.201500  1545908000  0.158520  \n",
      "36     19.681000  1084154000  0.076553  \n",
      "53     19.939501  1113734000 -0.000526  \n",
      "70     17.934500  1620238000 -0.100577  \n",
      "...          ...         ...       ...  \n",
      "1957  105.449997  1224083600  0.030792  \n",
      "1974  120.580002  1432891600  0.148928  \n",
      "1991  130.360001  1242648800  0.080123  \n",
      "2008  133.679993  1058754800  0.021862  \n",
      "2025  138.009995  1210426200  0.033396  \n",
      "\n",
      "[120 rows x 9 columns]\n"
     ]
    }
   ],
   "source": [
    "# Amazon\n",
    "amazon = df[df['Asset'].isin(['AMZN'])]\n",
    "\n",
    "print(amazon)"
   ]
  },
  {
   "cell_type": "code",
   "execution_count": 161,
   "metadata": {},
   "outputs": [
    {
     "data": {
      "text/plain": [
       "(120, 9)"
      ]
     },
     "execution_count": 161,
     "metadata": {},
     "output_type": "execute_result"
    }
   ],
   "source": [
    "amazon.shape"
   ]
  },
  {
   "cell_type": "code",
   "execution_count": 162,
   "metadata": {},
   "outputs": [
    {
     "data": {
      "text/html": [
       "<div>\n",
       "<style scoped>\n",
       "    .dataframe tbody tr th:only-of-type {\n",
       "        vertical-align: middle;\n",
       "    }\n",
       "\n",
       "    .dataframe tbody tr th {\n",
       "        vertical-align: top;\n",
       "    }\n",
       "\n",
       "    .dataframe thead th {\n",
       "        text-align: right;\n",
       "    }\n",
       "</style>\n",
       "<table border=\"1\" class=\"dataframe\">\n",
       "  <thead>\n",
       "    <tr style=\"text-align: right;\">\n",
       "      <th></th>\n",
       "      <th>Date</th>\n",
       "      <th>Asset</th>\n",
       "      <th>Open</th>\n",
       "      <th>High</th>\n",
       "      <th>Low</th>\n",
       "      <th>Close</th>\n",
       "      <th>Adj Close</th>\n",
       "      <th>Volume</th>\n",
       "      <th>ROI</th>\n",
       "    </tr>\n",
       "  </thead>\n",
       "  <tbody>\n",
       "    <tr>\n",
       "      <th>2</th>\n",
       "      <td>2013-09-01</td>\n",
       "      <td>AMZN</td>\n",
       "      <td>14.236500</td>\n",
       "      <td>16.0285</td>\n",
       "      <td>14.2085</td>\n",
       "      <td>15.632000</td>\n",
       "      <td>15.632000</td>\n",
       "      <td>869376000</td>\n",
       "      <td>0.098023</td>\n",
       "    </tr>\n",
       "    <tr>\n",
       "      <th>19</th>\n",
       "      <td>2013-10-01</td>\n",
       "      <td>AMZN</td>\n",
       "      <td>15.711000</td>\n",
       "      <td>18.4200</td>\n",
       "      <td>14.8250</td>\n",
       "      <td>18.201500</td>\n",
       "      <td>18.201500</td>\n",
       "      <td>1545908000</td>\n",
       "      <td>0.158520</td>\n",
       "    </tr>\n",
       "    <tr>\n",
       "      <th>36</th>\n",
       "      <td>2013-11-01</td>\n",
       "      <td>AMZN</td>\n",
       "      <td>18.281500</td>\n",
       "      <td>19.7050</td>\n",
       "      <td>17.0940</td>\n",
       "      <td>19.681000</td>\n",
       "      <td>19.681000</td>\n",
       "      <td>1084154000</td>\n",
       "      <td>0.076553</td>\n",
       "    </tr>\n",
       "    <tr>\n",
       "      <th>53</th>\n",
       "      <td>2013-12-01</td>\n",
       "      <td>AMZN</td>\n",
       "      <td>19.950001</td>\n",
       "      <td>20.2815</td>\n",
       "      <td>18.9750</td>\n",
       "      <td>19.939501</td>\n",
       "      <td>19.939501</td>\n",
       "      <td>1113734000</td>\n",
       "      <td>-0.000526</td>\n",
       "    </tr>\n",
       "    <tr>\n",
       "      <th>70</th>\n",
       "      <td>2014-01-01</td>\n",
       "      <td>AMZN</td>\n",
       "      <td>19.940001</td>\n",
       "      <td>20.4030</td>\n",
       "      <td>17.8880</td>\n",
       "      <td>17.934500</td>\n",
       "      <td>17.934500</td>\n",
       "      <td>1620238000</td>\n",
       "      <td>-0.100577</td>\n",
       "    </tr>\n",
       "  </tbody>\n",
       "</table>\n",
       "</div>"
      ],
      "text/plain": [
       "         Date Asset       Open     High      Low      Close  Adj Close  \\\n",
       "2  2013-09-01  AMZN  14.236500  16.0285  14.2085  15.632000  15.632000   \n",
       "19 2013-10-01  AMZN  15.711000  18.4200  14.8250  18.201500  18.201500   \n",
       "36 2013-11-01  AMZN  18.281500  19.7050  17.0940  19.681000  19.681000   \n",
       "53 2013-12-01  AMZN  19.950001  20.2815  18.9750  19.939501  19.939501   \n",
       "70 2014-01-01  AMZN  19.940001  20.4030  17.8880  17.934500  17.934500   \n",
       "\n",
       "        Volume       ROI  \n",
       "2    869376000  0.098023  \n",
       "19  1545908000  0.158520  \n",
       "36  1084154000  0.076553  \n",
       "53  1113734000 -0.000526  \n",
       "70  1620238000 -0.100577  "
      ]
     },
     "execution_count": 162,
     "metadata": {},
     "output_type": "execute_result"
    }
   ],
   "source": [
    "amazon.head()"
   ]
  },
  {
   "cell_type": "code",
   "execution_count": 163,
   "metadata": {},
   "outputs": [
    {
     "data": {
      "image/png": "[encoded data removed]",
      "text/plain": [
       "<Figure size 432x288 with 1 Axes>"
      ]
     },
     "metadata": {
      "needs_background": "light"
     },
     "output_type": "display_data"
    }
   ],
   "source": [
    "distribution = amazon['ROI']\n",
    "classes = round(1 + 3.333 * np.log10(len(distribution)))\n",
    "\n",
    "# Create the histogram\n",
    "plt.hist(distribution, bins=classes)\n",
    "\n",
    "# Add labels and title\n",
    "plt.xlabel('Return on investment')\n",
    "plt.ylabel('Frequency')\n",
    "plt.title('Distribution of return on investment')\n",
    "\n",
    "# Show the plot\n",
    "plt.show()"
   ]
  },
  {
   "cell_type": "code",
   "execution_count": 164,
   "metadata": {},
   "outputs": [
    {
     "data": {
      "image/png": "[encoded data removed]",
      "text/plain": [
       "<Figure size 432x288 with 1 Axes>"
      ]
     },
     "metadata": {
      "needs_background": "light"
     },
     "output_type": "display_data"
    }
   ],
   "source": [
    "# Create the boxplot\n",
    "plt.boxplot(distribution, vert = False)\n",
    "\n",
    "# Add labels and title\n",
    "plt.xlabel('Return on investment')\n",
    "plt.ylabel('Frequency')\n",
    "plt.title('Distribution of return on investment')\n",
    "\n",
    "# Show the plot\n",
    "plt.show()"
   ]
  },
  {
   "cell_type": "code",
   "execution_count": 165,
   "metadata": {},
   "outputs": [
    {
     "name": "stdout",
     "output_type": "stream",
     "text": [
      "Estimated loc parameter (mu):  0.02154060009909523\n",
      "Estimated scale parameter (sigma):  0.09142094214250057\n"
     ]
    }
   ],
   "source": [
    "norm_dist = distribution\n",
    "fit_loc, fit_scale = stats.norm.fit(norm_dist)\n",
    "# Print the estimated parameters\n",
    "print(\"Estimated loc parameter (mu): \", fit_loc)\n",
    "print(\"Estimated scale parameter (sigma): \", fit_scale)"
   ]
  },
  {
   "cell_type": "code",
   "execution_count": 166,
   "metadata": {},
   "outputs": [
    {
     "name": "stdout",
     "output_type": "stream",
     "text": [
      "The expectation of the random variable is:  0.02154060009909523\n"
     ]
    }
   ],
   "source": [
    "# Calculate the expected value\n",
    "expected_value = stats.norm.mean(loc = fit_loc, scale = fit_scale)\n",
    "print(\"The expectation of the random variable is: \", expected_value)"
   ]
  },
  {
   "cell_type": "code",
   "execution_count": 167,
   "metadata": {},
   "outputs": [
    {
     "name": "stdout",
     "output_type": "stream",
     "text": [
      "The variance of the random variable is:  0.008357788662222436\n"
     ]
    }
   ],
   "source": [
    "# Calculate the variance\n",
    "variance = stats.norm.var(loc = fit_loc, scale = fit_scale)\n",
    "print(\"The variance of the random variable is: \", variance)"
   ]
  },
  {
   "cell_type": "code",
   "execution_count": 168,
   "metadata": {},
   "outputs": [
    {
     "name": "stdout",
     "output_type": "stream",
     "text": [
      "Shapiro-Wilk Statistic: 0.9872650504112244\n",
      "P-value: 0.32437413930892944\n",
      "The data follows a normal distribution (not significant)\n"
     ]
    }
   ],
   "source": [
    "# Use goodness of fit test (Hypothesis testing) to validate the theoretical distribution\n",
    "\n",
    "statistic, p_value = stats.shapiro(norm_dist)\n",
    "\n",
    "# Print the test statistic and p-value\n",
    "alpha = 0.02  # Significance level\n",
    "print(f\"Shapiro-Wilk Statistic: {statistic}\")\n",
    "print(f\"P-value: {p_value}\")\n",
    "\n",
    "# Interpret the results\n",
    "if p_value >= alpha:\n",
    "    print(\"The data follows a normal distribution (not significant)\")\n",
    "else:\n",
    "    print(\"The data does not follow a normal distribution (significant)\")"
   ]
  }
 ],
 "metadata": {
  "kernelspec": {
   "display_name": "base",
   "language": "python",
   "name": "python3"
  },
  "language_info": {
   "codemirror_mode": {
    "name": "ipython",
    "version": 3
   },
   "file_extension": ".py",
   "mimetype": "text/x-python",
   "name": "python",
   "nbconvert_exporter": "python",
   "pygments_lexer": "ipython3",
   "version": "3.9.12"
  },
  "orig_nbformat": 4
 },
 "nbformat": 4,
 "nbformat_minor": 2
}
