{
 "cells": [
  {
   "cell_type": "code",
   "execution_count": null,
   "metadata": {},
   "outputs": [],
   "source": [
    "from src.model.markowitz.preprocess_data import read_data, pivot_data, calculate_correlation_matrix, calculate_expected_returns, calculate_covariance_matrix\n",
    "from src.model.markowitz.create_model import create_optimization_model\n",
    "from pyomo.environ import *"
   ]
  },
  {
   "cell_type": "code",
   "execution_count": null,
   "metadata": {},
   "outputs": [],
   "source": [
    "# Step 1: Preprocess data\n",
    "file_path = 'C:/Users/j.rodriguez.villegas/Documents/optimization/01_data/configuration_file.xlsx'\n",
    "sheet_name = 'Historical_data_2'\n",
    "df = read_data(file_path, sheet_name)\n",
    "pivot_table = pivot_data(df, \"Date\", \"Asset\", \"ROI\")\n",
    "covariance_matrix = calculate_covariance_matrix(pivot_table)\n",
    "correlation_matrix = calculate_correlation_matrix(pivot_table)\n",
    "assets_data = calculate_expected_returns(df)"
   ]
  },
  {
   "cell_type": "code",
   "execution_count": null,
   "metadata": {},
   "outputs": [],
   "source": [
    "# Step 2: Create the optimization model\n",
    "return_level = 0.001\n",
    "risk_level = 0.0001\n",
    "model = create_optimization_model(assets_data, return_level, risk_level, covariance_matrix)"
   ]
  },
  {
   "cell_type": "code",
   "execution_count": null,
   "metadata": {},
   "outputs": [],
   "source": [
    "solver = SolverFactory('glpk')\n",
    "\n",
    "# Set the time limit in seconds\n",
    "time_limit = 600  # 600 seconds\n",
    "# Set the time limit in seconds\n",
    "solver.options['tmlim'] = time_limit\n",
    "\n",
    "# Solve the linear convex problem\n",
    "result = solver.solve(model, tee=True, report_timing=True)\n",
    "\n",
    "# Check the solver's termination condition\n",
    "termination_condition = result.solver.termination_condition\n",
    "solver_status = result.solver.status\n",
    "\n",
    "# Print the results or handle them accordingly\n",
    "if solver_status == SolverStatus.ok and termination_condition == TerminationCondition.optimal:\n",
    "    optimal_solution = value(model.obj_calculate_total_return)\n",
    "    print(\"Optimal solution found. Total expected return:\", optimal_solution)\n",
    "elif solver_status == SolverStatus.ok and termination_condition in [TerminationCondition.maxTimeLimit]:\n",
    "    print(\"Time limit reached. No optimal solution found within the specified time.\")\n",
    "else:\n",
    "    print(\"No optimal solution found, model is infeasible or unbounded...\")\n",
    "    print(\"Solver terminated with condition:\", solver_status)"
   ]
  }
 ],
 "metadata": {
  "kernelspec": {
   "display_name": "base",
   "language": "python",
   "name": "python3"
  },
  "language_info": {
   "codemirror_mode": {
    "name": "ipython",
    "version": 3
   },
   "file_extension": ".py",
   "mimetype": "text/x-python",
   "name": "python",
   "nbconvert_exporter": "python",
   "pygments_lexer": "ipython3",
   "version": "3.9.12"
  },
  "orig_nbformat": 4
 },
 "nbformat": 4,
 "nbformat_minor": 2
}
