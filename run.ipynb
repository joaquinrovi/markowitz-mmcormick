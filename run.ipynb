{
 "cells": [
  {
   "cell_type": "code",
   "execution_count": null,
   "metadata": {},
   "outputs": [],
   "source": [
    "from pyomo.environ import SolverFactory, SolverStatus, TerminationCondition\n",
    "\n",
    "from src.model.markowitz.preprocess_data import *\n",
    "from src.model.markowitz.create_model import *\n",
    "from src.model.markowitz.constraints import*\n",
    "from src.model.markowitz.objective import *"
   ]
  },
  {
   "cell_type": "code",
   "execution_count": null,
   "metadata": {},
   "outputs": [],
   "source": [
    "file_path = 'C:/Users/j.rodriguez.villegas/Documents/optimization/01_data/configuration_file.xlsx'\n",
    "sheet_name = 'Historical_data_2'\n",
    "    \n",
    "# Load data and create the optimization model\n",
    "df = read_data(file_path, sheet_name)\n",
    "assets_data = calculate_expected_return(df)\n",
    "pivot_table = create_pivot_table(df)\n",
    "covariance_matrix = calculate_covariance_matrix(pivot_table)"
   ]
  },
  {
   "cell_type": "code",
   "execution_count": null,
   "metadata": {},
   "outputs": [],
   "source": [
    "covariance_matrix.head()"
   ]
  },
  {
   "cell_type": "code",
   "execution_count": null,
   "metadata": {},
   "outputs": [],
   "source": [
    "assets_data.head()"
   ]
  }
 ],
 "metadata": {
  "kernelspec": {
   "display_name": "base",
   "language": "python",
   "name": "python3"
  },
  "language_info": {
   "codemirror_mode": {
    "name": "ipython",
    "version": 3
   },
   "file_extension": ".py",
   "mimetype": "text/x-python",
   "name": "python",
   "nbconvert_exporter": "python",
   "pygments_lexer": "ipython3",
   "version": "3.9.12"
  },
  "orig_nbformat": 4
 },
 "nbformat": 4,
 "nbformat_minor": 2
}
